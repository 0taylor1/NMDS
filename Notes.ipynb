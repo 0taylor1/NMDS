{
 "cells": [
  {
   "cell_type": "markdown",
   "metadata": {},
   "source": [
    "<!--  key equations in latex to be converted for README -->\n",
    "## Problem\n",
    "\n",
    "minimize \n",
    "$$\\sum_{(i,j,k,l)\\in S}{\\epsilon_{ijkl} + \\lambda Tr(K)}$$\n",
    "\n",
    "subject to\n",
    "$$k_{kk} - 2k_{kl} + k_{ll} - k_{ii} + 2k_{ij} - k_{jj} \\geq 1 - \\epsilon_{ijkl}$$\n",
    "$$\\sum_{ab}K{ab} = 0$$\n",
    "$$\\epsilon_{ijkl} \\geq 0$$\n",
    "$$K \\succeq 0$$\n"
   ]
  },
  {
   "cell_type": "markdown",
   "metadata": {},
   "source": [
    "inequality constraint as linear equations of the gram matrix $K$\n",
    "$$\n",
    "\\begin{bmatrix}\n",
    "\n",
    "\\end{bmatrix}\n",
    "$$"
   ]
  },
  {
   "cell_type": "markdown",
   "metadata": {},
   "source": [
    "## Questions\n",
    "* why is comparison using K matrix 100% but the calculated distance not?\n",
    "* different reg param needed for different problem set ups.   \n",
    "  better way of finding best regularization parameter?  \n",
    "* does not fair well with large N compared to M - why?"
   ]
  }
 ],
 "metadata": {
  "kernelspec": {
   "display_name": "Python 3",
   "language": "python",
   "name": "python3"
  },
  "language_info": {
   "codemirror_mode": {
    "name": "ipython",
    "version": 3
   },
   "file_extension": ".py",
   "mimetype": "text/x-python",
   "name": "python",
   "nbconvert_exporter": "python",
   "pygments_lexer": "ipython3",
   "version": "3.8.5"
  }
 },
 "nbformat": 4,
 "nbformat_minor": 4
}
