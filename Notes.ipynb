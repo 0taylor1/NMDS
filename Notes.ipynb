{
 "cells": [
  {
   "cell_type": "markdown",
   "metadata": {},
   "source": [
    "<!--  key equations in latex to be converted for README -->\n",
    "## Problem\n",
    "\n",
    "minimize \n",
    "$$\\sum_{(i,j,k,l)\\in S}{\\epsilon_{ijkl} + \\lambda Tr(K)}$$\n",
    "\n",
    "subject to\n",
    "$$k_{kk} - 2k_{kl} + k_{ll} - k_{ii} + 2k_{ij} - k_{jj} \\geq 1 - \\epsilon_{ijkl}$$\n",
    "$$\\sum_{ab}K{ab} = 0$$\n",
    "$$\\epsilon_{ijkl} \\geq 0$$\n",
    "$$K \\succeq 0$$\n"
   ]
  }
 ],
 "metadata": {
  "kernelspec": {
   "display_name": "Python 3",
   "language": "python",
   "name": "python3"
  },
  "language_info": {
   "codemirror_mode": {
    "name": "ipython",
    "version": 3
   },
   "file_extension": ".py",
   "mimetype": "text/x-python",
   "name": "python",
   "nbconvert_exporter": "python",
   "pygments_lexer": "ipython3",
   "version": "3.8.5"
  }
 },
 "nbformat": 4,
 "nbformat_minor": 4
}
