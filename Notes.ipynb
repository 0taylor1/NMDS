{
 "cells": [
  {
   "cell_type": "markdown",
   "source": [
    "<!--  key equations in latex to be converted for README -->\n",
    "## Problem\n",
    "\n",
    "minimize \n",
    "$$\\sum_{(i,j,k,l)\\in S}{\\epsilon_{ijkl} + \\lambda Tr(K)}$$\n",
    "\n",
    "subject to\n",
    "$$k_{kk} - 2k_{kl} + k_{ll} - k_{ii} + 2k_{ij} - k_{jj} \\geq 1 - \\epsilon_{ijkl}$$\n",
    "$$\\sum_{ab}K{ab} = 0$$\n",
    "$$\\epsilon_{ijkl} \\geq 0$$\n",
    "$$K \\succeq 0$$\n"
   ],
   "metadata": {}
  },
  {
   "cell_type": "markdown",
   "source": [
    "inequality constraint as linear equations of the gram matrix $K$\n",
    "$$\n",
    "\\begin{bmatrix}\n",
    "\n",
    "\\end{bmatrix}\n",
    "$$"
   ],
   "metadata": {}
  },
  {
   "cell_type": "code",
   "execution_count": null,
<<<<<<< HEAD
   "metadata": {},
   "outputs": [],
   "source": []
=======
   "source": [
    "'''\n",
    "## Questions\n",
    "* g(x) -- how to check if x \\in vec(D^n_0)?  \n",
    "  - project x onto D^n_0?\n",
    "  - is x in (12) vec(X), X EDM?\n",
    "\n",
    "p6 1. optimization over x, u\n",
    "argmin_x { g(x) + \\rho/2... }\n",
    "solution for min over x is given by\n",
    "  proj(y-(z+lam*one))/rho on vec(D^n_0)\n",
    "  check projection algorithm + other pieces of optimization problems using CVX\n",
    "    test (9) - (8) using cvxpy\n",
    "\n",
    "solution for min over u_k is given by\n",
    "  ... piecewise function\n",
    "\n",
    "choosing rho\n",
    "  any positive number\n",
    "  impacts number of interations \n",
    "  trial and error for now\n",
    "\n",
    "stopping conditions\n",
    "  ...\n",
    "\n",
    "<< complexity >>\n",
    "O(n^3)/iteration + analyzing convergence\n",
    "  projection on D^n_0 probably the most expensive\n",
    "    eigdecomp of (n-1)-symmetric matrix --> O(n^3)\n",
    "  other steps linear\n",
    "'''"
   ],
   "outputs": [],
   "metadata": {}
>>>>>>> admm
  }
 ],
 "metadata": {
  "kernelspec": {
   "display_name": "Python 3",
   "language": "python",
   "name": "python3"
  },
  "language_info": {
   "codemirror_mode": {
    "name": "ipython",
    "version": 3
   },
   "file_extension": ".py",
   "mimetype": "text/x-python",
   "name": "python",
   "nbconvert_exporter": "python",
   "pygments_lexer": "ipython3",
   "version": "3.8.5"
  }
 },
 "nbformat": 4,
 "nbformat_minor": 4
}