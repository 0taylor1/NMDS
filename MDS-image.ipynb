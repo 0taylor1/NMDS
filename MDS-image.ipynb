{
 "cells": [
  {
   "cell_type": "markdown",
   "metadata": {},
   "source": [
    "## too slow to run local - moving to google colab"
   ]
  },
  {
   "cell_type": "code",
   "execution_count": 23,
   "metadata": {},
   "outputs": [],
   "source": [
    "import numpy as np\n",
    "import matplotlib.pyplot as plt\n",
    "import cvxpy as cp\n",
    "import numpy.linalg as npl\n",
    "np.set_printoptions(precision=2)\n",
    "\n",
    "N = 35\n",
    "M = 28*28\n",
    "X = np.empty((N,M))\n",
    "for i in range(N):\n",
    "    path = \"./data/ucla/ucla-%d\"%(i*10)\n",
    "    X[i] = plt.imread(path).mean(2).reshape(M)"
   ]
  },
  {
   "cell_type": "code",
   "execution_count": 26,
   "metadata": {},
   "outputs": [],
   "source": [
    "# generate ordering set\n",
    "D = np.array([[npl.norm(X[i]-X[j]) for i in range(N)] for j in range(N)])\n",
    "\n",
    "imap = {} # map array index to matrix index\n",
    "i = 0\n",
    "d = np.array([])\n",
    "for r in range(N):\n",
    "    for c in range(r+1, N):\n",
    "        imap[i] = (r, c)\n",
    "        d = np.append(d, D[r,c])\n",
    "        i += 1\n",
    "        \n",
    "idx = np.argsort(d)\n",
    "d = d[idx]\n",
    "d, unique_idx = np.unique(d, return_index=True)\n",
    "idx = idx[unique_idx]\n",
    "# print(d)\n",
    "\n",
    "# full order : len(d)C2 comparisons\n",
    "S = [imap[idx[i]] + imap[idx[j]] for i in range(len(idx)) for j in range(i+1,len(idx))] "
   ]
  },
  {
   "cell_type": "code",
   "execution_count": 28,
   "metadata": {},
   "outputs": [],
   "source": [
    "# inequality constraints\n",
    "A = []\n",
    "for (i,j,k,l) in S:\n",
    "    a = np.zeros((N,N))\n",
    "    a[k,k] += 1\n",
    "    a[k,l] += -2\n",
    "    a[l,l] += 1\n",
    "    a[i,i] += -1\n",
    "    a[i,j] += 2\n",
    "    a[j,j] += -1\n",
    "    A.append(a)\n",
    "    \n",
    "# problem\n",
    "K_ = cp.Variable((N,N), symmetric=True) # gram matrix\n",
    "E = cp.Variable((len(S),1), nonneg=True) # slack\n",
    "\n",
    "diff = 1 # force difference between comparisons\n",
    "gamma = 0.22 # reg param for rank\n",
    "\n",
    "constraints = []\n",
    "constraints += [K_ >> 0] # PSD\n",
    "constraints += [cp.sum(K_) == 0] # center\n",
    "constraints += [cp.trace(A[e]@K_) >= (diff - E[e]) for e in range(len(S))]\n",
    "\n",
    "error = cp.sum(E)\n",
    "obj = cp.Minimize(error + gamma*cp.trace(K_))\n",
    "prob = cp.Problem(obj, constraints)\n",
    "# prob.solve()"
   ]
  },
  {
   "cell_type": "code",
   "execution_count": 29,
   "metadata": {},
   "outputs": [
    {
     "name": "stdout",
     "output_type": "stream",
     "text": [
      "CPU times: user 2min 49s, sys: 4.61 s, total: 2min 53s\n",
      "Wall time: 2min 46s\n"
     ]
    },
    {
     "name": "stderr",
     "output_type": "stream",
     "text": [
      "/usr/local/lib/python3.8/site-packages/cvxpy/problems/problem.py:1267: UserWarning: Solution may be inaccurate. Try another solver, adjusting the solver settings, or solve with verbose=True for more information.\n",
      "  warnings.warn(\n"
     ]
    },
    {
     "data": {
      "text/plain": [
       "340.63884964680375"
      ]
     },
     "execution_count": 29,
     "metadata": {},
     "output_type": "execute_result"
    }
   ],
   "source": [
    "%time prob.solve()"
   ]
  },
  {
   "cell_type": "code",
   "execution_count": 30,
   "metadata": {},
   "outputs": [
    {
     "name": "stdout",
     "output_type": "stream",
     "text": [
      "[1.12e+00 1.12e+00 1.55e+00 1.59e+00 1.67e+00 1.69e+00 1.69e+00 1.75e+00\n",
      " 1.93e+00 2.03e+00 2.11e+00 2.51e+00 2.57e+00 2.73e+00 2.77e+00 2.77e+00\n",
      " 2.90e+00 3.19e+00 3.38e+00 3.59e+00 4.45e+00 4.72e+00 5.65e+00 6.95e+00\n",
      " 7.80e+00 7.83e+00 8.36e+00 9.20e+00 1.50e+01 1.60e+01 1.65e+01 1.72e+01\n",
      " 2.44e+01 2.76e+01 2.59e+04]\n",
      "[-9.54e-05 -1.20e-05 -4.79e-06 -4.29e-06 -3.87e-06 -2.98e-06 -1.29e-06\n",
      " -1.03e-06 -1.48e-10  2.82e-08  6.20e-07  1.65e-06  2.21e-06  2.97e-06\n",
      "  3.88e-06  4.72e-06  4.85e-06  6.29e-06  7.81e-06  1.15e-05  1.39e-05\n",
      "  2.44e-05  3.78e-05  1.87e+00  1.36e+01  1.93e+01  2.69e+01  3.40e+01\n",
      "  5.72e+01  6.49e+01  8.42e+01  8.97e+01  1.23e+02  1.67e+02  2.23e+02]\n"
     ]
    }
   ],
   "source": [
    "K = X@X.T\n",
    "U, V = npl.eigh(K_.value)\n",
    "print(npl.eigh(K)[0])\n",
    "print(npl.eigh(K_.value)[0])"
   ]
  },
  {
   "cell_type": "code",
   "execution_count": null,
   "metadata": {},
   "outputs": [],
   "source": []
  }
 ],
 "metadata": {
  "kernelspec": {
   "display_name": "Python 3",
   "language": "python",
   "name": "python3"
  },
  "language_info": {
   "codemirror_mode": {
    "name": "ipython",
    "version": 3
   },
   "file_extension": ".py",
   "mimetype": "text/x-python",
   "name": "python",
   "nbconvert_exporter": "python",
   "pygments_lexer": "ipython3",
   "version": "3.8.5"
  }
 },
 "nbformat": 4,
 "nbformat_minor": 4
}
