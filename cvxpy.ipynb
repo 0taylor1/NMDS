{
 "cells": [
  {
   "cell_type": "code",
   "execution_count": 1,
   "metadata": {},
   "outputs": [],
   "source": [
    "import numpy as np\n",
    "import matplotlib.pyplot as plt\n",
    "import cvxpy as cp\n",
    "import numpy.linalg as npl\n",
    "from scipy.linalg import toeplitz\n",
    "np.set_printoptions(precision=2)"
   ]
  },
  {
   "cell_type": "code",
   "execution_count": 2,
   "metadata": {},
   "outputs": [],
   "source": [
    "# generate data - M dimensions, N samples\n",
    "N = 10\n",
    "M = 2\n",
    "\n",
    "np.random.seed(2)\n",
    "X = np.random.randn(N,M) # NxM\n",
    "D = np.array([[npl.norm(X[i]-X[j]) for i in range(N)] for j in range(N)])\n",
    "K = X.T@X\n",
    "center = np.sum(K)\n",
    "# print(D)\n",
    "\n",
    "imap = {} # map array index to matrix index\n",
    "i=0\n",
    "d = np.array([])\n",
    "for r in range(N):\n",
    "    for c in range(r+1, N):\n",
    "        imap[i] = (r, c)\n",
    "        d = np.append(d, D[r,c])\n",
    "        i += 1\n",
    "        \n",
    "idx = np.argsort(d)\n",
    "d = d[idx]\n",
    "# print(d)\n",
    "\n",
    "S = [imap[idx[i-1]] + imap[idx[i+1]] for i in range(1,len(idx)-1)]\n",
    "# print(S)"
   ]
  },
  {
   "cell_type": "code",
   "execution_count": 25,
   "metadata": {},
   "outputs": [
    {
     "data": {
      "text/plain": [
       "27.07645529954988"
      ]
     },
     "execution_count": 25,
     "metadata": {},
     "output_type": "execute_result"
    }
   ],
   "source": [
    "# inequality constraints\n",
    "A = []\n",
    "for (i,j,k,l) in S:\n",
    "    a = np.zeros((N,N))\n",
    "    a[k,k] += 1\n",
    "    a[k,l] += -2\n",
    "    a[l,l] += 1\n",
    "    a[i,i] += -1\n",
    "    a[i,j] += 2\n",
    "    a[j,j] += -1\n",
    "    A.append(a)\n",
    "    \n",
    "K_ = cp.Variable((N,N), symmetric=True) # gram matrix\n",
    "E = cp.Variable((len(S),1), nonneg=True) # slack\n",
    "\n",
    "diff = 1 # force difference between comparisons\n",
    "lam = 0.5 # reg param for rank\n",
    "\n",
    "constraints = []\n",
    "constraints = [K_ >> 0] # PSD\n",
    "constraints += [cp.sum(K_) == center] # center\n",
    "constraints += [cp.trace(A[e]@K_) >= (diff - E[e]) for e in range(len(S))]\n",
    "\n",
    "prob = cp.Problem(cp.Minimize(cp.sum(E) + lam*cp.trace(K_)), constraints)\n",
    "# prob = cp.Problem(cp.Minimize(cp.sum(E)), constraints)\n",
    "prob.solve()"
   ]
  },
  {
   "cell_type": "code",
   "execution_count": 26,
   "metadata": {},
   "outputs": [
    {
     "name": "stdout",
     "output_type": "stream",
     "text": [
      "[10.32 14.18]\n",
      "[-2.66e-04 -3.27e-05  5.22e-05  4.31e-02  9.35e-01  2.30e+00  4.76e+00\n",
      "  6.28e+00  1.23e+01  1.97e+01]\n"
     ]
    }
   ],
   "source": [
    "U, V = npl.eigh(K_.value)\n",
    "print(npl.eigh(X.T@X)[0])\n",
    "print(npl.eigh(K_.value)[0])\n",
    "X_ = np.array([(U[i]**0.5)*V[i] for i in range(-1,-3,-1)]).T"
   ]
  },
  {
   "cell_type": "code",
   "execution_count": 27,
   "metadata": {},
   "outputs": [
    {
     "data": {
      "text/plain": [
       "array([[ 2.81,  0.47],\n",
       "       [-0.38, -0.52],\n",
       "       [-1.67,  2.2 ],\n",
       "       [ 1.7 , -0.83],\n",
       "       [-0.04,  0.67],\n",
       "       [ 1.4 ,  1.11],\n",
       "       [-1.74, -1.55],\n",
       "       [ 0.28,  0.35],\n",
       "       [ 0.91, -0.67],\n",
       "       [-0.11,  1.28]])"
      ]
     },
     "execution_count": 27,
     "metadata": {},
     "output_type": "execute_result"
    }
   ],
   "source": [
    "X_"
   ]
  },
  {
   "cell_type": "code",
   "execution_count": 28,
   "metadata": {},
   "outputs": [
    {
     "name": "stdout",
     "output_type": "stream",
     "text": [
      "0.4883720930232558\n",
      "[1. 1. 1. 1. 1. 1. 1. 1. 1. 1. 1. 1. 1. 1. 1. 1. 1. 1. 1. 1. 1. 1. 1. 1.\n",
      " 1. 1. 1. 1. 1. 1. 1. 1. 1. 1. 1. 1. 1. 1. 1. 1. 1. 1. 1.]\n",
      "[0. 0. 1. 0. 1. 1. 0. 1. 0. 0. 0. 0. 1. 0. 0. 1. 1. 0. 1. 1. 0. 0. 1. 1.\n",
      " 1. 1. 1. 0. 0. 0. 1. 0. 1. 1. 0. 0. 1. 0. 0. 1. 0. 1. 1.]\n"
     ]
    }
   ],
   "source": [
    "# new distance matrix\n",
    "D_ = np.array([[npl.norm(X_[i]-X_[j]) for i in range(N)] for j in range(N)])\n",
    "\n",
    "# imap_ = {} \n",
    "# i = 0\n",
    "# d_ = np.array([])\n",
    "# for r in range(N):\n",
    "#     for c in range(r+1, N):\n",
    "#         imap_[i] = (r, c)\n",
    "#         d_ = np.append(d_, D_[r,c])\n",
    "#         i += 1\n",
    "        \n",
    "# S_ = [imap_[idx_[i]] + imap_[idx_[i+1]] for i in range(len(idx_)-1)]\n",
    "\n",
    "before = np.zeros(len(S))\n",
    "after = np.zeros(len(S))\n",
    "for s in range(len(S)):\n",
    "    i,j,k,l = S[s]\n",
    "    before[s] = D[i,j] <= D[k,l]\n",
    "    after[s] = D_[i,j] <= D_[k,l]\n",
    "\n",
    "# fraction of orderings preserved\n",
    "preserved = (len(S) - np.count_nonzero(before-after))/len(S)\n",
    "print(preserved)\n",
    "\n",
    "print(before)\n",
    "print(after)"
   ]
  },
  {
   "cell_type": "code",
   "execution_count": 29,
   "metadata": {},
   "outputs": [
    {
     "name": "stdout",
     "output_type": "stream",
     "text": [
      "[-0.45  0.04]\n",
      "[0.32 0.25]\n",
      "22.964193559737918\n",
      "22.96441302799239\n"
     ]
    }
   ],
   "source": [
    "print(np.mean(X, axis=0))\n",
    "print(np.mean(X_, axis=0))\n",
    "print(np.sum(K))\n",
    "print(np.sum(K_.value))"
   ]
  },
  {
   "cell_type": "code",
   "execution_count": 30,
   "metadata": {},
   "outputs": [
    {
     "data": {
      "text/plain": [
       "array([9.82e-02, 0.00e+00, 2.09e-04, 0.00e+00, 1.82e-01, 6.66e-05,\n",
       "       0.00e+00, 5.60e-01, 0.00e+00, 3.18e-01, 1.43e+00, 5.57e-01,\n",
       "       4.57e-01, 1.70e-01, 1.47e-01, 5.41e-05, 0.00e+00, 3.12e-05,\n",
       "       1.10e-05, 7.75e-05, 0.00e+00, 0.00e+00, 0.00e+00, 1.02e-05,\n",
       "       0.00e+00, 4.06e-05, 0.00e+00, 0.00e+00, 0.00e+00, 0.00e+00,\n",
       "       0.00e+00, 8.68e-05, 0.00e+00, 1.24e-05, 0.00e+00, 0.00e+00,\n",
       "       0.00e+00, 0.00e+00, 0.00e+00, 0.00e+00, 0.00e+00, 0.00e+00,\n",
       "       0.00e+00])"
      ]
     },
     "execution_count": 30,
     "metadata": {},
     "output_type": "execute_result"
    }
   ],
   "source": [
    "E.value.reshape(-1)"
   ]
  },
  {
   "cell_type": "code",
   "execution_count": 32,
   "metadata": {},
   "outputs": [
    {
     "data": {
      "text/plain": [
       "[<matplotlib.lines.Line2D at 0x12704a790>]"
      ]
     },
     "execution_count": 32,
     "metadata": {},
     "output_type": "execute_result"
    },
    {
     "data": {
      "image/png": "[encoded data removed]",
      "text/plain": [
       "<Figure size 864x288 with 2 Axes>"
      ]
     },
     "metadata": {
      "needs_background": "light"
     },
     "output_type": "display_data"
    }
   ],
   "source": [
    "plt.figure(figsize=(12,4))\n",
    "plt.subplot(121)\n",
    "plt.plot(X[:,0], X[:,1], 'C0.')\n",
    "plt.subplot(122)\n",
    "plt.plot(X_[:,0], X_[:,1], 'C1.')"
   ]
  },
  {
   "cell_type": "code",
   "execution_count": null,
   "metadata": {},
   "outputs": [],
   "source": []
  }
 ],
 "metadata": {
  "kernelspec": {
   "display_name": "Python 3",
   "language": "python",
   "name": "python3"
  },
  "language_info": {
   "codemirror_mode": {
    "name": "ipython",
    "version": 3
   },
   "file_extension": ".py",
   "mimetype": "text/x-python",
   "name": "python",
   "nbconvert_exporter": "python",
   "pygments_lexer": "ipython3",
   "version": "3.8.5"
  }
 },
 "nbformat": 4,
 "nbformat_minor": 4
}
