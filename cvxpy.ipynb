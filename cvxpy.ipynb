{
 "cells": [
  {
   "cell_type": "code",
   "execution_count": 1,
   "metadata": {},
   "outputs": [],
   "source": [
    "import numpy as np\n",
    "import matplotlib.pyplot as plt\n",
    "import cvxpy as cp\n",
    "import numpy.linalg as npl\n",
    "np.set_printoptions(precision=2)"
   ]
  },
  {
   "cell_type": "code",
   "execution_count": 2,
   "metadata": {},
   "outputs": [],
   "source": [
    "# generate data - M dimensions, N samples\n",
    "N = 50\n",
    "M = 2\n",
    "\n",
    "np.random.seed(2)\n",
    "X = np.random.randint(0, 20, N*M).astype(float)\n",
    "X = X.reshape((N,M)) # NXM\n",
    "X -= np.mean(X) # center\n",
    "D = np.array([[npl.norm(X[i]-X[j]) for i in range(N)] for j in range(N)])\n",
    "K = X@X.T # MXM\n",
    "# print(D)\n",
    "\n",
    "imap = {} # map array index to matrix index\n",
    "i = 0\n",
    "d = np.array([])\n",
    "for r in range(N):\n",
    "    for c in range(r+1, N):\n",
    "        imap[i] = (r, c)\n",
    "        d = np.append(d, D[r,c])\n",
    "        i += 1\n",
    "        \n",
    "idx = np.argsort(d)\n",
    "d = d[idx]\n",
    "d, unique_idx = np.unique(d, return_index=True)\n",
    "idx = idx[unique_idx]\n",
    "# print(d)\n",
    "\n",
    "# compare adjacent : len(d)-1 comparisons\n",
    "S = [imap[idx[i]] + imap[idx[i+1]] for i in range(len(idx)-1)] \n",
    "\n",
    "# full order : len(d)C2 comparisons\n",
    "# S = [imap[idx[i]] + imap[idx[j]] for i in range(len(idx)) for j in range(i+1,len(idx))] "
   ]
  },
  {
   "cell_type": "code",
   "execution_count": 3,
   "metadata": {},
   "outputs": [],
   "source": [
    "# inequality constraints\n",
    "A = []\n",
    "for (i,j,k,l) in S:\n",
    "    a = np.zeros((N,N))\n",
    "    a[k,k] += 1\n",
    "    a[k,l] += -2\n",
    "    a[l,l] += 1\n",
    "    a[i,i] += -1\n",
    "    a[i,j] += 2\n",
    "    a[j,j] += -1\n",
    "    A.append(a)\n",
    "    \n",
    "# problem\n",
    "K_ = cp.Variable((N,N), symmetric=True) # gram matrix\n",
    "E = cp.Variable((len(S),1), nonneg=True) # slack\n",
    "\n",
    "diff = 1 # force difference between comparisons\n",
    "gamma = 0.12 # reg param for rank\n",
    "\n",
    "constraints = []\n",
    "constraints += [K_ >> 0] # PSD\n",
    "constraints += [cp.sum(K_) == 0] # center\n",
    "constraints += [cp.trace(A[e]@K_) >= (diff - E[e]) for e in range(len(S))]\n",
    "\n",
    "error = cp.sum(E)\n",
    "obj = cp.Minimize(error + gamma*cp.trace(K_))\n",
    "prob = cp.Problem(obj, constraints)\n",
    "# prob.solve()"
   ]
  },
  {
   "cell_type": "code",
   "execution_count": 4,
   "metadata": {},
   "outputs": [
    {
     "name": "stdout",
     "output_type": "stream",
     "text": [
      "CPU times: user 11.5 s, sys: 529 ms, total: 12 s\n",
      "Wall time: 11.7 s\n"
     ]
    },
    {
     "name": "stderr",
     "output_type": "stream",
     "text": [
      "/usr/local/lib/python3.8/site-packages/cvxpy/problems/problem.py:1267: UserWarning: Solution may be inaccurate. Try another solver, adjusting the solver settings, or solve with verbose=True for more information.\n",
      "  warnings.warn(\n"
     ]
    },
    {
     "data": {
      "text/plain": [
       "119.1384816997622"
      ]
     },
     "execution_count": 4,
     "metadata": {},
     "output_type": "execute_result"
    }
   ],
   "source": [
    "%time prob.solve()"
   ]
  },
  {
   "cell_type": "code",
   "execution_count": 5,
   "metadata": {},
   "outputs": [],
   "source": [
    "# find best regularization parameter (gamma)\n",
    "# gamma = cp.Parameter(nonneg=True)\n",
    "\n",
    "# # trade-off - sum(E) vs tr(K_)\n",
    "# sum_penalty = []\n",
    "# tr_penalty = []\n",
    "# K_vals = []\n",
    "# gamma_vals = np.linspace(0.01, 0.5, 10) # Px1\n",
    "# for val in gamma_vals:\n",
    "#     gamma.value = val\n",
    "#     prob.solve()\n",
    "#     sum_penalty.append(error.value)\n",
    "#     tr_penalty.append(cp.trace(K_).value)\n",
    "#     K_vals.append(K_.value)"
   ]
  },
  {
   "cell_type": "code",
   "execution_count": 6,
   "metadata": {},
   "outputs": [],
   "source": [
    "# # plot trade-off curve\n",
    "# plt.figure(figsize=(12,4))\n",
    "# plt.subplot(121)\n",
    "\n",
    "# # not as helpful\n",
    "# # plt.plot(tr_penalty, sum_penalty) \n",
    "# # plt.xlabel(\"trace\")\n",
    "# # plt.ylabel(\"slack\")\n",
    "# # plt.title(\"Trade-off curve\")\n",
    "\n",
    "# plt.plot(gamma_vals, tr_penalty, label='trace')\n",
    "# plt.plot(gamma_vals, sum_penalty, label='sum')\n",
    "# plt.xlabel(\"gamma\")\n",
    "# plt.ylabel(\"error\")\n",
    "# # plt.xscale('log')\n",
    "# plt.title(\"Error vs gamma\")\n",
    "# plt.legend()\n",
    "\n",
    "\n",
    "# # plot M+1 largest eigenvalues of K_ vs gamma\n",
    "# plt.subplot(122)\n",
    "# eigvals = np.array([npl.eigh(K_vals[i])[0][-M-1:] for i in range(len(gamma_vals))]) # Px(M+1)\n",
    "# for i in range(1,M+2):\n",
    "#     plt.plot(gamma_vals, eigvals[:,-i], label='%d'%(i))    \n",
    "# # plt.xscale('log')\n",
    "# plt.xlabel(\"gamma\")\n",
    "# plt.ylabel(\"eigenvalues\")\n",
    "# plt.title(\"Eigenvalues of K vs gamma\")\n",
    "# plt.legend()"
   ]
  },
  {
   "cell_type": "code",
   "execution_count": 7,
   "metadata": {},
   "outputs": [],
   "source": [
    "# np.array([constraints[i].value() for i in range(2,len(S))]).T"
   ]
  },
  {
   "cell_type": "code",
   "execution_count": 8,
   "metadata": {},
   "outputs": [
    {
     "data": {
      "image/png": "[encoded data removed]",
      "text/plain": [
       "<Figure size 864x288 with 4 Axes>"
      ]
     },
     "metadata": {
      "needs_background": "light"
     },
     "output_type": "display_data"
    }
   ],
   "source": [
    "plt.figure(figsize=(12,4))\n",
    "plt.subplot(121)\n",
    "plt.imshow(K, zorder=2, cmap='Blues', interpolation='nearest')\n",
    "plt.colorbar();\n",
    "plt.subplot(122)\n",
    "plt.imshow(K_.value, zorder=2, cmap='Blues', interpolation='nearest')\n",
    "plt.colorbar();"
   ]
  },
  {
   "cell_type": "code",
   "execution_count": 9,
   "metadata": {},
   "outputs": [
    {
     "name": "stdout",
     "output_type": "stream",
     "text": [
      "[-3.55e-13 -3.20e-13 -2.92e-13 -2.16e-13 -1.98e-13 -1.69e-13 -1.68e-13\n",
      " -1.49e-13 -1.37e-13 -1.35e-13 -1.07e-13 -1.05e-13 -8.64e-14 -8.23e-14\n",
      " -7.98e-14 -5.77e-14 -5.74e-14 -4.81e-14 -4.31e-14 -2.93e-14 -2.17e-14\n",
      " -1.97e-14 -6.05e-15 -2.77e-15 -5.20e-16  1.21e-15  5.09e-15  9.36e-15\n",
      "  1.47e-14  1.90e-14  2.83e-14  3.80e-14  3.81e-14  4.08e-14  6.70e-14\n",
      "  7.30e-14  8.13e-14  9.35e-14  9.69e-14  1.26e-13  1.31e-13  1.51e-13\n",
      "  1.71e-13  1.81e-13  1.96e-13  2.30e-13  2.89e-13  3.13e-13  1.42e+03\n",
      "  1.55e+03]\n",
      "[-6.96e-05 -5.38e-05 -5.16e-05 -2.80e-05 -2.48e-05 -2.32e-05 -2.13e-05\n",
      " -1.77e-05 -1.55e-05 -1.38e-05 -1.19e-05 -1.09e-05 -8.68e-06 -5.86e-06\n",
      " -5.63e-06 -4.60e-06 -4.25e-06 -3.58e-06 -2.66e-06 -1.13e-07  7.56e-10\n",
      "  3.27e-07  1.01e-06  2.44e-06  2.86e-06  3.93e-06  5.34e-06  6.98e-06\n",
      "  8.79e-06  1.14e-05  1.26e-05  1.40e-05  1.76e-05  2.02e-05  2.52e-05\n",
      "  3.05e-05  3.30e-05  3.65e-05  3.84e-05  4.63e-05  5.43e-05  7.12e-05\n",
      "  7.90e+00  1.31e+01  2.53e+01  3.27e+01  4.78e+01  6.99e+01  1.96e+02\n",
      "  2.31e+02]\n",
      "[1422.1  1548.66]\n",
      "[195.63 230.61]\n"
     ]
    }
   ],
   "source": [
    "U, V = npl.eigh(K_.value)\n",
    "\n",
    "print(npl.eigh(K)[0])\n",
    "print(npl.eigh(K_.value)[0])\n",
    "\n",
    "U = U[-M:]\n",
    "V = V[-M:]\n",
    "\n",
    "x1 = X\n",
    "x2 = (np.diag(U**0.5)@V).T\n",
    "\n",
    "# rescale?\n",
    "# U *= np.sqrt(np.sum(npl.eigh(K)[0][-2:]**2))/np.sqrt(np.sum(U**2))\n",
    "X_ = (np.diag(U**0.5)@V).T # NxM\n",
    "\n",
    "print(npl.eigh(K)[0][-2:])\n",
    "print(U)"
   ]
  },
  {
   "cell_type": "code",
   "execution_count": 10,
   "metadata": {},
   "outputs": [
    {
     "name": "stdout",
     "output_type": "stream",
     "text": [
      "0.063\n",
      "0.523\n",
      "0.923\n"
     ]
    }
   ],
   "source": [
    "# new distance matrix\n",
    "D_ = np.array([[npl.norm(X_[i]-X_[j]) for i in range(N)] for j in range(N)])\n",
    "\n",
    "# check if ordering is preserved\n",
    "# based on distance matrix from positions\n",
    "D_before = np.zeros(len(S))\n",
    "D_after = np.zeros(len(S))\n",
    "\n",
    "# based on gram matrix\n",
    "K_before = np.zeros(len(S))\n",
    "K_after = np.zeros(len(S))\n",
    "\n",
    "for s in range(len(S)):\n",
    "    (i,j,k,l) = S[s]\n",
    "    D_before[s] = D[i,j] <= D[k,l]\n",
    "    D_after[s] = D_[i,j] <= D_[k,l]\n",
    "    K_before[s] = np.trace(A[s]@K) >= 0\n",
    "    K_after[s] = np.trace(A[s]@K_.value) >= 0\n",
    "\n",
    "# fraction of orderings preserved\n",
    "D_preserved = (len(S) - np.count_nonzero(D_before-D_after))/len(S)\n",
    "K_preserved = (len(S) - np.count_nonzero(K_before-K_after))/len(S)\n",
    "\n",
    "print(\"%.3f\"%(len(S)/(N*N-N)))\n",
    "print(\"%.3f\"%(D_preserved))\n",
    "print(\"%.3f\"%(K_preserved))"
   ]
  },
  {
   "cell_type": "code",
   "execution_count": 11,
   "metadata": {},
   "outputs": [
    {
     "data": {
      "text/plain": [
       "[<matplotlib.lines.Line2D at 0x126165b20>]"
      ]
     },
     "execution_count": 11,
     "metadata": {},
     "output_type": "execute_result"
    },
    {
     "data": {
      "image/png": "[encoded data removed]",
      "text/plain": [
       "<Figure size 432x288 with 1 Axes>"
      ]
     },
     "metadata": {
      "needs_background": "light"
     },
     "output_type": "display_data"
    }
   ],
   "source": [
    "plt.plot(E.value.reshape(-1))"
   ]
  }
 ],
 "metadata": {
  "kernelspec": {
   "display_name": "Python 3",
   "language": "python",
   "name": "python3"
  },
  "language_info": {
   "codemirror_mode": {
    "name": "ipython",
    "version": 3
   },
   "file_extension": ".py",
   "mimetype": "text/x-python",
   "name": "python",
   "nbconvert_exporter": "python",
   "pygments_lexer": "ipython3",
   "version": "3.8.5"
  }
 },
 "nbformat": 4,
 "nbformat_minor": 4
}
