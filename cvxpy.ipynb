{
 "cells": [
  {
   "cell_type": "code",
   "execution_count": 1,
   "metadata": {},
   "outputs": [],
   "source": [
    "import numpy as np\n",
    "import matplotlib.pyplot as plt\n",
    "import cvxpy as cp\n",
    "import numpy.linalg as npl\n",
    "from scipy.linalg import toeplitz\n",
    "np.set_printoptions(precision=2)"
   ]
  },
  {
   "cell_type": "code",
   "execution_count": 2,
   "metadata": {},
   "outputs": [],
   "source": [
    "# generate data - M features, N samples\n",
    "N = 10\n",
    "M = 2\n",
    "\n",
    "# x1 = np.arange(N)\n",
    "# x2 = x1**3\n",
    "# X = np.array([x1, x2]).T # NxM\n",
    "\n",
    "np.random.seed(1)\n",
    "X = np.random.randn(N,M) # NxM\n",
    "# plt.plot(X[:,0], X[:,1], 'C0.')\n",
    "D = np.array([[npl.norm(X[i]-X[j], ord=2) for i in range(N)] for j in range(N)])\n",
    "# print(D)\n",
    "\n",
    "imap = {} # map array index to matrix index\n",
    "i=0\n",
    "d = np.array([])\n",
    "for r in range(N):\n",
    "    for c in range(r+1, N):\n",
    "        imap[i] = (r, c)\n",
    "        d = np.append(d, D[r,c])\n",
    "        i += 1\n",
    "        \n",
    "idx = np.argsort(d)\n",
    "d = d[idx]\n",
    "# print(d)\n",
    "\n",
    "S = [imap[idx[i]] + imap[idx[i+1]] for i in range(len(idx)-1)]\n",
    "# print(S)"
   ]
  },
  {
   "cell_type": "code",
   "execution_count": 4,
   "metadata": {},
   "outputs": [
    {
     "data": {
      "text/plain": [
       "219.99921738824722"
      ]
     },
     "execution_count": 4,
     "metadata": {},
     "output_type": "execute_result"
    }
   ],
   "source": [
    "k = 1 # force difference between comparisons\n",
    "l = 1 # reg param for rank\n",
    "\n",
    "# inequality constraints\n",
    "A = []\n",
    "for (i,j,k,l) in S:\n",
    "    a = np.zeros((N,N))\n",
    "    a[k,k] += 1\n",
    "    a[k,l] += -1\n",
    "    a[l,l] += -1\n",
    "    a[l,l] += 1\n",
    "    a[i,i] += -1\n",
    "    a[i,j] += 1\n",
    "    a[j,i] += 1\n",
    "    a[j,j] += -1\n",
    "    A.append(a)\n",
    "    \n",
    "K_ = cp.Variable((N,N), symmetric=True)\n",
    "E = cp.Variable(len(S))\n",
    "\n",
    "constraints = []\n",
    "constraints = [K_ >> 0] # PSD\n",
    "constraints += [cp.sum(K_) == 0] # center\n",
    "# constraints += [E[i] >= 0 for i in range(len(S))] # slack\n",
    "# constraints += [E >= 0]\n",
    "# constraints += [cp.trace(A[i]@K_) >= (k - E[i]) for i in range(len(S))]\n",
    "\n",
    "# prob = cp.Problem(cp.Minimize(cp.sum(E) + l*cp.trace(K_)), constraints)\n",
    "cost = 0\n",
    "for i in range(len(S)):\n",
    "    cost += E[i] + l*cp.trace(K_)\n",
    "    constraints += [E[i] >= 0]\n",
    "    constraints += [cp.trace(A[i]@K_) >= (k - E[i])]\n",
    "prob = cp.Problem(cp.Minimize(cost), constraints)\n",
    "prob.solve()"
   ]
  },
  {
   "cell_type": "code",
   "execution_count": 9,
   "metadata": {},
   "outputs": [
    {
     "name": "stdout",
     "output_type": "stream",
     "text": [
      "[ 4.26 20.29]\n",
      "[-2.56e-06 -2.00e-06 -1.87e-06 -8.33e-07 -6.54e-07  2.03e-07  8.23e-07\n",
      "  9.74e-07  1.45e-06  2.50e-06]\n"
     ]
    }
   ],
   "source": [
    "lams, V = npl.eigh(K_.value)\n",
    "print(npl.eigh(X.T@X)[0])\n",
    "print(lams)\n",
    "X_ = np.array([lams[i]*V[i] for i in range(2)]).T\n",
    "\n",
    "# plt.figure(figsize=(12,4))\n",
    "# plt.subplot(121)\n",
    "# plt.plot(X[:,0], X[:,1], 'C0.')\n",
    "# plt.subplot(122)\n",
    "# plt.plot(X_[:,0], X_[:,1], 'C1.')"
   ]
  },
  {
   "cell_type": "code",
   "execution_count": 6,
   "metadata": {},
   "outputs": [
    {
     "name": "stdout",
     "output_type": "stream",
     "text": [
      "0.6136363636363636\n"
     ]
    }
   ],
   "source": [
    "D_ = np.array([[npl.norm(X_[i]-X_[j], ord=2) for i in range(N)] for j in range(N)])\n",
    "imap_ = {} # map array index to matrix index\n",
    "i=0\n",
    "d_ = np.array([])\n",
    "for r in range(N):\n",
    "    for c in range(r+1, N):\n",
    "        imap_[i] = (r, c)\n",
    "        d_ = np.append(d_, D_[r,c])\n",
    "        i += 1\n",
    "        \n",
    "# S_ = [imap_[idx_[i]] + imap_[idx_[i+1]] for i in range(len(idx_)-1)]\n",
    "succ = np.zeros(len(S))\n",
    "success = np.zeros(len(S))\n",
    "for s in range(len(S)):\n",
    "    i,j,k,l = S[s]\n",
    "    succ[s] = D[i,j] <= D[k,l]\n",
    "    success[s] = D_[i,j] <= D_[k,l]\n",
    "\n",
    "# print(S)\n",
    "preserved = (len(S) - np.count_nonzero(succ-success))/len(S)\n",
    "print(preserved)"
   ]
  },
  {
   "cell_type": "code",
   "execution_count": 7,
   "metadata": {},
   "outputs": [
    {
     "data": {
      "text/plain": [
       "array([5., 5., 5., 5., 5., 5., 5., 5., 5., 5., 5., 5., 5., 5., 5., 5., 5.,\n",
       "       5., 5., 5., 5., 5., 5., 5., 5., 5., 5., 5., 5., 5., 5., 5., 5., 5.,\n",
       "       5., 5., 5., 5., 5., 5., 5., 5., 5., 5.])"
      ]
     },
     "execution_count": 7,
     "metadata": {},
     "output_type": "execute_result"
    }
   ],
   "source": [
    "E.value"
   ]
  },
  {
   "cell_type": "code",
   "execution_count": null,
   "metadata": {},
   "outputs": [],
   "source": []
  }
 ],
 "metadata": {
  "kernelspec": {
   "display_name": "Python 3",
   "language": "python",
   "name": "python3"
  },
  "language_info": {
   "codemirror_mode": {
    "name": "ipython",
    "version": 3
   },
   "file_extension": ".py",
   "mimetype": "text/x-python",
   "name": "python",
   "nbconvert_exporter": "python",
   "pygments_lexer": "ipython3",
   "version": "3.8.5"
  }
 },
 "nbformat": 4,
 "nbformat_minor": 4
}
