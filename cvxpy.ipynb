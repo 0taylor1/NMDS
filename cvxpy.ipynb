{
 "cells": [
  {
   "cell_type": "code",
   "execution_count": 1,
   "metadata": {},
   "outputs": [],
   "source": [
    "import numpy as np\n",
    "import matplotlib.pyplot as plt\n",
    "import cvxpy as cp\n",
    "import numpy.linalg as npl\n",
    "np.set_printoptions(precision=2)"
   ]
  },
  {
   "cell_type": "code",
   "execution_count": 11,
   "metadata": {},
   "outputs": [],
   "source": [
    "# generate data - M dimensions, N samples\n",
    "N = 20\n",
    "M = 2\n",
    "\n",
    "np.random.seed(2)\n",
    "X = np.random.randint(0, 20, N*M).astype(float)\n",
    "X = X.reshape((N,M)) # NXM\n",
    "X -= np.mean(X) # center\n",
    "D = np.array([[npl.norm(X[i]-X[j]) for i in range(N)] for j in range(N)])\n",
    "K = X@X.T # MXM\n",
    "# print(D)\n",
    "\n",
    "imap = {} # map array index to matrix index\n",
    "i = 0\n",
    "d = np.array([])\n",
    "for r in range(N):\n",
    "    for c in range(r+1, N):\n",
    "        imap[i] = (r, c)\n",
    "        d = np.append(d, D[r,c])\n",
    "        i += 1\n",
    "        \n",
    "idx = np.argsort(d)\n",
    "d = d[idx]\n",
    "d, unique_idx = np.unique(d, return_index=True)\n",
    "idx = idx[unique_idx]\n",
    "# print(d)\n",
    "\n",
    "S = [imap[idx[i]] + imap[idx[i+1]] for i in range(len(idx)-1)]\n",
    "# print(S)"
   ]
  },
  {
   "cell_type": "code",
   "execution_count": 28,
   "metadata": {},
   "outputs": [
    {
     "data": {
      "text/plain": [
       "33.60396257929778"
      ]
     },
     "execution_count": 28,
     "metadata": {},
     "output_type": "execute_result"
    }
   ],
   "source": [
    "# inequality constraints\n",
    "A = []\n",
    "for (i,j,k,l) in S:\n",
    "    a = np.zeros((N,N))\n",
    "    a[k,k] += 1\n",
    "    a[k,l] += -2\n",
    "    a[l,l] += 1\n",
    "    a[i,i] += -1\n",
    "    a[i,j] += 2\n",
    "    a[j,j] += -1\n",
    "    A.append(a)\n",
    "    \n",
    "K_ = cp.Variable((N,N), symmetric=True) # gram matrix\n",
    "E = cp.Variable((len(S),1), nonneg=True) # slack\n",
    "\n",
    "diff = d[1]-d[0] # force difference between comparisons\n",
    "gamma = 0.5 # reg param for rank\n",
    "\n",
    "constraints = []\n",
    "constraints += [K_ >> 0] # PSD\n",
    "constraints += [cp.sum(K_) == 0] # center\n",
    "constraints += [cp.trace(A[e]@K_) >= (diff - E[e]) for e in range(len(S))]\n",
    "\n",
    "prob = cp.Problem(cp.Minimize(cp.sum(E) + gamma*cp.trace(K_)), constraints)\n",
    "# prob = cp.Problem(cp.Minimize(cp.sum(E)), constraints)\n",
    "prob.solve()"
   ]
  },
  {
   "cell_type": "code",
   "execution_count": 29,
   "metadata": {},
   "outputs": [
    {
     "data": {
      "text/plain": [
       "array([ True,  True,  True,  True,  True,  True, False,  True,  True,\n",
       "        True,  True,  True,  True,  True,  True,  True,  True,  True,\n",
       "        True,  True,  True,  True,  True,  True, False,  True,  True,\n",
       "        True,  True,  True,  True,  True, False,  True, False, False,\n",
       "        True, False, False, False, False, False, False,  True,  True,\n",
       "        True,  True, False,  True,  True,  True,  True,  True,  True,\n",
       "       False,  True,  True, False,  True,  True, False, False, False,\n",
       "        True,  True,  True,  True, False, False, False, False, False,\n",
       "        True,  True, False, False, False,  True, False,  True, False,\n",
       "       False])"
      ]
     },
     "execution_count": 29,
     "metadata": {},
     "output_type": "execute_result"
    }
   ],
   "source": [
    "np.array([constraints[i].value() for i in range(2,len(S))]).T"
   ]
  },
  {
   "cell_type": "code",
   "execution_count": 30,
   "metadata": {},
   "outputs": [
    {
     "data": {
      "image/png": "[encoded data removed]",
      "text/plain": [
       "<Figure size 864x288 with 4 Axes>"
      ]
     },
     "metadata": {
      "needs_background": "light"
     },
     "output_type": "display_data"
    }
   ],
   "source": [
    "plt.figure(figsize=(12,4))\n",
    "plt.subplot(121)\n",
    "plt.imshow(K, zorder=2, cmap='Blues', interpolation='nearest')\n",
    "plt.colorbar();\n",
    "plt.subplot(122)\n",
    "plt.imshow(K_.value, zorder=2, cmap='Blues', interpolation='nearest')\n",
    "plt.colorbar();"
   ]
  },
  {
   "cell_type": "code",
   "execution_count": 31,
   "metadata": {},
   "outputs": [
    {
     "name": "stdout",
     "output_type": "stream",
     "text": [
      "[-1.18e-13 -3.13e-14 -2.41e-14 -2.36e-14 -1.25e-14 -7.85e-15 -4.62e-15\n",
      " -2.35e-15  2.71e-16  8.17e-16  2.50e-15  4.60e-15  5.05e-15  1.07e-14\n",
      "  1.45e-14  2.39e-14  6.94e-14  1.20e-13  5.44e+02  5.62e+02]\n",
      "[-2.93e-05 -2.54e-05 -2.05e-05 -1.61e-05 -9.33e-06 -4.71e-06 -2.48e-06\n",
      "  3.03e-09  5.99e-07  3.46e-06  3.88e-06  5.92e-06  1.02e-05  1.12e-05\n",
      "  1.31e-05  1.86e-05  2.64e-05  1.09e-01  2.09e+00  2.36e+00]\n",
      "[543.86 562.12]\n",
      "[2.09 2.36]\n"
     ]
    }
   ],
   "source": [
    "U, V = npl.eigh(K_.value)\n",
    "\n",
    "print(npl.eigh(K)[0])\n",
    "print(npl.eigh(K_.value)[0])\n",
    "\n",
    "U = U[-M:]\n",
    "V = V[-M:]\n",
    "\n",
    "x1 = X\n",
    "x2 = (np.diag(U**0.5)@V).T\n",
    "\n",
    "# rescale?\n",
    "# U *= np.sqrt(np.sum(npl.eigh(K)[0][-2:]**2))/np.sqrt(np.sum(U**2))\n",
    "X_ = (np.diag(U**0.5)@V).T # NxM\n",
    "\n",
    "print(npl.eigh(K)[0][-2:])\n",
    "print(U)"
   ]
  },
  {
   "cell_type": "code",
   "execution_count": 32,
   "metadata": {},
   "outputs": [],
   "source": [
    "# plt.figure(figsize=(12,4))\n",
    "# plt.subplot(121)\n",
    "# plt.plot(X[:,0], X[:,1], 'C0.')\n",
    "# plt.subplot(122)\n",
    "# plt.plot(X_[:,0], X_[:,1], 'C1.')"
   ]
  },
  {
   "cell_type": "code",
   "execution_count": 33,
   "metadata": {},
   "outputs": [
    {
     "name": "stdout",
     "output_type": "stream",
     "text": [
      "0.5\n",
      "[1. 1. 1. 1. 1. 1. 1. 1. 1. 1. 1. 1. 1. 1. 1. 1. 1. 1. 1. 1. 1. 1. 1. 1.\n",
      " 1. 1. 1. 1. 1. 1. 1. 1. 1. 1. 1. 1. 1. 1. 1. 1. 1. 1. 1. 1. 1. 1. 1. 1.\n",
      " 1. 1. 1. 1. 1. 1. 1. 1. 1. 1. 1. 1. 1. 1. 1. 1. 1. 1. 1. 1. 1. 1. 1. 1.\n",
      " 1. 1. 1. 1. 1. 1. 1. 1. 1. 1. 1. 1.]\n",
      "[0. 1. 1. 0. 0. 1. 0. 1. 0. 0. 1. 1. 1. 0. 1. 0. 1. 1. 0. 0. 1. 1. 0. 1.\n",
      " 0. 0. 1. 0. 0. 1. 0. 1. 1. 0. 1. 0. 0. 0. 1. 1. 0. 0. 1. 1. 1. 0. 0. 1.\n",
      " 0. 1. 1. 1. 1. 0. 0. 0. 1. 0. 1. 0. 1. 1. 1. 0. 1. 1. 0. 0. 1. 0. 1. 0.\n",
      " 1. 0. 1. 0. 0. 0. 1. 1. 0. 1. 0. 0.]\n"
     ]
    }
   ],
   "source": [
    "# new distance matrix\n",
    "D_ = np.array([[npl.norm(X_[i]-X_[j]) for i in range(N)] for j in range(N)])\n",
    "\n",
    "# is order preserved\n",
    "before = np.zeros(len(S))\n",
    "after = np.zeros(len(S))\n",
    "for s in range(len(S)):\n",
    "    i,j,k,l = S[s]\n",
    "    before[s] = D[i,j] <= D[k,l]\n",
    "    after[s] = D_[i,j] <= D_[k,l]\n",
    "\n",
    "# fraction of orderings preserved\n",
    "preserved = (len(S) - np.count_nonzero(before-after))/len(S)\n",
    "print(preserved)\n",
    "print(before)\n",
    "print(after)"
   ]
  },
  {
   "cell_type": "code",
   "execution_count": 34,
   "metadata": {},
   "outputs": [
    {
     "data": {
      "text/plain": [
       "[<matplotlib.lines.Line2D at 0x1251cb490>]"
      ]
     },
     "execution_count": 34,
     "metadata": {},
     "output_type": "execute_result"
    },
    {
     "data": {
      "image/png": "[encoded data removed]",
      "text/plain": [
       "<Figure size 432x288 with 1 Axes>"
      ]
     },
     "metadata": {
      "needs_background": "light"
     },
     "output_type": "display_data"
    }
   ],
   "source": [
    "plt.plot(E.value.reshape(-1))"
   ]
  },
  {
   "cell_type": "code",
   "execution_count": null,
   "metadata": {},
   "outputs": [],
   "source": []
  }
 ],
 "metadata": {
  "kernelspec": {
   "display_name": "Python 3",
   "language": "python",
   "name": "python3"
  },
  "language_info": {
   "codemirror_mode": {
    "name": "ipython",
    "version": 3
   },
   "file_extension": ".py",
   "mimetype": "text/x-python",
   "name": "python",
   "nbconvert_exporter": "python",
   "pygments_lexer": "ipython3",
   "version": "3.8.5"
  }
 },
 "nbformat": 4,
 "nbformat_minor": 4
}
