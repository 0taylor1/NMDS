{
 "cells": [
  {
   "cell_type": "markdown",
   "metadata": {},
   "source": [
    "## Example: Sparse inverse covariance selection via ADMM\n",
    "https://web.stanford.edu/~boyd/papers/admm/covsel/covsel.html\n",
    "https://web.stanford.edu/~boyd/papers/admm/covsel/covsel_example.html\n",
    "\n",
    "objective\n",
    "$$\n",
    "\\text{minimize } tr(SX) - log det X + \\lambda \\|x\\|_1\n",
    "$$"
   ]
  },
  {
   "cell_type": "code",
   "execution_count": 21,
   "metadata": {},
   "outputs": [],
   "source": [
    "import numpy as np\n",
    "import scipy as sp\n",
    "import numpy.linalg as npl\n",
    "import scipy.linalg as spl\n",
    "import matplotlib.pyplot as plt\n",
    "np.set_printoptions(precision=2)\n",
    "\n",
    "# default globals\n",
    "MAX_ITER = 1000\n",
    "ABSTOL = 1e-4\n",
    "RELTOL = 1e-2"
   ]
  },
  {
   "cell_type": "code",
   "execution_count": 29,
   "metadata": {},
   "outputs": [
    {
     "name": "stdout",
     "output_type": "stream",
     "text": [
      "(100, 100)\n"
     ]
    }
   ],
   "source": [
    "# generate data\n",
    "np.random.seed(1)\n",
    "M = 100 # num features\n",
    "N = 10*M # num samples\n",
    "\n",
    "# positive definite inverse covariance matrix\n",
    "Sinv = np.diag(np.ones(M)) # MxM covinv\n",
    "idx = np.random.choice(M, size=int(0.001*M**2), replace=False)\n",
    "Sinv.flat[idx] = np.ones(idx.shape[0])\n",
    "\n",
    "Sinv = Sinv + Sinv.T # make symmetric\n",
    "eig, _ = npl.eig(Sinv)\n",
    "if np.min(eig) < 0:\n",
    "    Sinv += 1.1*np.abs(np.min(eig))*np.eye(M) # make PD\n",
    "\n",
    "S0 = npl.inv(Sinv)\n",
    "\n",
    "# generate gaussian samples\n",
    "D = np.random.multivariate_normal(np.zeros(M), S0, N) # NxM\n",
    "\n",
    "rho = 1.0\n",
    "alpha = 1.0\n",
    "lam = 0.01"
   ]
  },
  {
   "cell_type": "code",
   "execution_count": 13,
   "metadata": {},
   "outputs": [],
   "source": [
    "def objective(S, X, Z, lam):\n",
    "    return np.trace(S@X) - np.log(npl.det(X)) + lam*norm(Z, ord=1)\n",
    "\n",
    "def shrinkage(x, kappa):\n",
    "    q1 = x - kappa\n",
    "    q1[q1<0] = 0\n",
    "    q2 = -x - kappa \n",
    "    q2[q2<0] = 0\n",
    "    return q1 - q2"
   ]
  },
  {
   "cell_type": "code",
   "execution_count": 25,
   "metadata": {},
   "outputs": [
    {
     "ename": "ValueError",
     "evalue": "operands could not be broadcast together with shapes (100,) (1000,1000) ",
     "output_type": "error",
     "traceback": [
      "\u001b[0;31m---------------------------------------------------------------------------\u001b[0m",
      "\u001b[0;31mValueError\u001b[0m                                Traceback (most recent call last)",
      "\u001b[0;32m<ipython-input-25-944b9b21f0a2>\u001b[0m in \u001b[0;36m<module>\u001b[0;34m\u001b[0m\n\u001b[1;32m     26\u001b[0m \u001b[0;32mfor\u001b[0m \u001b[0mk\u001b[0m \u001b[0;32min\u001b[0m \u001b[0mrange\u001b[0m\u001b[0;34m(\u001b[0m\u001b[0mMAX_ITER\u001b[0m\u001b[0;34m)\u001b[0m\u001b[0;34m:\u001b[0m\u001b[0;34m\u001b[0m\u001b[0;34m\u001b[0m\u001b[0m\n\u001b[1;32m     27\u001b[0m     \u001b[0;31m# X-update\u001b[0m\u001b[0;34m\u001b[0m\u001b[0;34m\u001b[0m\u001b[0;34m\u001b[0m\u001b[0m\n\u001b[0;32m---> 28\u001b[0;31m     \u001b[0mQ\u001b[0m\u001b[0;34m,\u001b[0m \u001b[0mL\u001b[0m \u001b[0;34m=\u001b[0m \u001b[0mnpl\u001b[0m\u001b[0;34m.\u001b[0m\u001b[0meig\u001b[0m\u001b[0;34m(\u001b[0m\u001b[0mrho\u001b[0m\u001b[0;34m*\u001b[0m\u001b[0;34m(\u001b[0m\u001b[0mZ\u001b[0m \u001b[0;34m-\u001b[0m \u001b[0mU\u001b[0m\u001b[0;34m)\u001b[0m \u001b[0;34m-\u001b[0m \u001b[0mS\u001b[0m\u001b[0;34m)\u001b[0m\u001b[0;34m\u001b[0m\u001b[0;34m\u001b[0m\u001b[0m\n\u001b[0m\u001b[1;32m     29\u001b[0m     \u001b[0mes\u001b[0m \u001b[0;34m=\u001b[0m \u001b[0mnp\u001b[0m\u001b[0;34m.\u001b[0m\u001b[0mdiag\u001b[0m\u001b[0;34m(\u001b[0m\u001b[0mL\u001b[0m\u001b[0;34m)\u001b[0m\u001b[0;34m\u001b[0m\u001b[0;34m\u001b[0m\u001b[0m\n\u001b[1;32m     30\u001b[0m     \u001b[0mxi\u001b[0m \u001b[0;34m=\u001b[0m \u001b[0;34m(\u001b[0m\u001b[0mes\u001b[0m \u001b[0;34m+\u001b[0m \u001b[0mnp\u001b[0m\u001b[0;34m.\u001b[0m\u001b[0msqrt\u001b[0m\u001b[0;34m(\u001b[0m\u001b[0mes\u001b[0m\u001b[0;34m**\u001b[0m\u001b[0;36m2\u001b[0m \u001b[0;34m+\u001b[0m \u001b[0;36m4\u001b[0m\u001b[0;34m*\u001b[0m\u001b[0mrho\u001b[0m\u001b[0;34m)\u001b[0m\u001b[0;34m)\u001b[0m\u001b[0;34m/\u001b[0m\u001b[0;34m(\u001b[0m\u001b[0;36m2\u001b[0m\u001b[0;34m*\u001b[0m\u001b[0mrho\u001b[0m\u001b[0;34m)\u001b[0m \u001b[0;31m# see notes p.4\u001b[0m\u001b[0;34m\u001b[0m\u001b[0;34m\u001b[0m\u001b[0m\n",
      "\u001b[0;31mValueError\u001b[0m: operands could not be broadcast together with shapes (100,) (1000,1000) "
     ]
    }
   ],
   "source": [
    "# def covsel(D, lam, rho, alpha):\n",
    "'''\n",
    "Solve sparse inverse covsel via ADMM:\n",
    "    minimize tr(SX) - logdet(X) + \\lambda ||x||_1\n",
    "    \n",
    "    S - emprical covariance\n",
    "    D - data matrix\n",
    "    hist - logs objective value, primal/dual residual norms, primal/dual tolerances\n",
    "    rho - augmented Lagrangian param\n",
    "    alpha - over-relaxation param\n",
    "'''\n",
    "S = np.cov(D, rowvar=False) # NxN\n",
    "N = S.shape[0]\n",
    "\n",
    "X = np.zeros(M)\n",
    "Z = np.zeros(M)\n",
    "U = np.zeros(M)\n",
    "\n",
    "# hist = {}\n",
    "# hist['objval'] = []\n",
    "# hist['r_norm'] = []\n",
    "# hist['s_norm'] = []\n",
    "# hist['eps_pri'] = []\n",
    "# hist['eps_dual'] = []\n",
    "\n",
    "for k in range(MAX_ITER):\n",
    "    # X-update\n",
    "    Q, L = npl.eig(rho*(Z - U) - S)\n",
    "    es = np.diag(L)\n",
    "    xi = (es + np.sqrt(es**2 + 4*rho))/(2*rho) # see notes p.4\n",
    "    X = Q@np.diag(xi)@Q.T\n",
    "    \n",
    "    \n",
    "    \n",
    "    # Z-update\n",
    "    \n",
    "    # bookkeeping\n",
    "    hist['objval'] += []\n",
    "    hist['r_norm'] += []\n",
    "    hist['s_norm'] += []\n",
    "    hist['eps_pri'] += []\n",
    "    hist['eps_dual'] += []\n",
    "    \n",
    "    # termination condition\n",
    "    \n",
    "#     return X, hist"
   ]
  },
  {
   "cell_type": "code",
   "execution_count": 17,
   "metadata": {},
   "outputs": [
    {
     "data": {
      "text/plain": [
       "array([1., 1., 1., 1., 1., 1., 1., 1., 1., 1.])"
      ]
     },
     "execution_count": 17,
     "metadata": {},
     "output_type": "execute_result"
    }
   ],
   "source": [
    "v = npl.eig(np.diag(np.arange(10)))[1]\n",
    "np.diag(v)"
   ]
  },
  {
   "cell_type": "code",
   "execution_count": null,
   "metadata": {},
   "outputs": [],
   "source": []
  }
 ],
 "metadata": {
  "kernelspec": {
   "display_name": "Python 3",
   "language": "python",
   "name": "python3"
  },
  "language_info": {
   "codemirror_mode": {
    "name": "ipython",
    "version": 3
   },
   "file_extension": ".py",
   "mimetype": "text/x-python",
   "name": "python",
   "nbconvert_exporter": "python",
   "pygments_lexer": "ipython3",
   "version": "3.8.5"
  }
 },
 "nbformat": 4,
 "nbformat_minor": 4
}
