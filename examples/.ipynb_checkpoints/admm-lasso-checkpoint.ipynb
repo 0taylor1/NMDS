{
 "cells": [
  {
   "cell_type": "markdown",
   "metadata": {},
   "source": [
    "## Example: Solving Lasso via ADMM\n",
    "https://web.stanford.edu/~boyd/papers/admm/lasso/lasso.html\n",
    "https://web.stanford.edu/~boyd/papers/admm/lasso/lasso_example.html\n",
    "\n",
    "ADMM steps (scaled form)\n",
    "$$\n",
    "x^{k+1} := {argmin}_x\n",
    "$$\n",
    "\n",
    "Optimality conditions\n",
    "$$\n",
    "$$\n",
    "\n",
    "Stopping Criteria\n",
    "$$\n",
    "$$"
   ]
  },
  {
   "cell_type": "code",
   "execution_count": 1,
   "metadata": {},
   "outputs": [],
   "source": [
    "import numpy as np\n",
    "import scipy as sp\n",
    "import numpy.linalg as npl\n",
    "import scipy.linalg as spl\n",
    "import matplotlib.pyplot as plt\n",
    "np.set_printoptions(precision=2)\n",
    "\n",
    "# default constants\n",
    "MAX_ITER = 1000\n",
    "ABSTOL = 1e-4 # absolute tolerance\n",
    "RELTOL = 1e-2 # relative tolerance"
   ]
  },
  {
   "cell_type": "code",
   "execution_count": 2,
   "metadata": {},
   "outputs": [],
   "source": [
    "# generate data\n",
    "np.random.seed(1)\n",
    "N = 5000 # num samples\n",
    "M = 1500 # num features\n",
    "# p = 100/N # sparsity density\n",
    "\n",
    "x0 = np.random.randn(M)\n",
    "A = np.random.randn(N,M)\n",
    "for j in range(M):\n",
    "    A[:,j] /= np.sqrt(np.sum(A[:,j]**2)) # normalize columns\n",
    "b = A@x0 + np.sqrt(0.001)*np.random.randn(N)\n",
    "\n",
    "lam = 0.1*npl.norm(A.T@b, np.inf)\n",
    "rho = 1.0\n",
    "alpha = 1.0"
   ]
  },
  {
   "cell_type": "code",
   "execution_count": 3,
   "metadata": {},
   "outputs": [],
   "source": [
    "def factor(A, rho):\n",
    "    N, M = A.shape\n",
    "    if N >= M: # tall\n",
    "        L = npl.cholesky(A.T@A + rho*np.eye(M))\n",
    "    else: # wide\n",
    "        L = npl.cholesky(np.eye(N) + 1/rho*(A@A.T))\n",
    "    return L, L.T"
   ]
  },
  {
   "cell_type": "code",
   "execution_count": 4,
   "metadata": {},
   "outputs": [],
   "source": [
    "def objective(A, b, lam, x, z):\n",
    "    return 1/2*np.sum((A@x - b)**2) + lam*npl.norm(z, ord=1)\n",
    "\n",
    "def shrinkage(x, kappa):\n",
    "    q1 = x - kappa\n",
    "    q1[q1<0] = 0\n",
    "    q2 = -x - kappa \n",
    "    q2[q2<0] = 0\n",
    "    return q1 - q2"
   ]
  },
  {
   "cell_type": "code",
   "execution_count": 5,
   "metadata": {},
   "outputs": [],
   "source": [
    "def lasso(A, b, lam, rho, alpha):\n",
    "    '''\n",
    "    Solve Lasso problem via ADMM:\n",
    "        minimize 1/2*||Ax-b||^2_2 + \\lambda ||x||_1\n",
    "        (lstsq obj with l1 regulrization)\n",
    "\n",
    "        hist - logs:\n",
    "            objective value\n",
    "            primal/dual residual norms\n",
    "            tolerances for primal/dual residual norms\n",
    "        rho - augmented Lagrangian param\n",
    "        alpha - over-relaxation param, btwn 1.0~1.8\n",
    "    '''\n",
    "    N, M = A.shape\n",
    "    Atb = A.T@b # save a matrix-vector multiply\n",
    "    L, U = factor(A, rho) # cache cholesky factorization\n",
    "\n",
    "    x = np.zeros(M)\n",
    "    z = np.zeros(M)\n",
    "    u = np.zeros(M)\n",
    "\n",
    "    hist = {}\n",
    "    hist['objval'] = []\n",
    "    hist['r_norm'] = []\n",
    "    hist['s_norm'] = []\n",
    "    hist['eps_pri'] = []\n",
    "    hist['eps_dual'] = []\n",
    "\n",
    "    for k in range(MAX_ITER):\n",
    "        # x-update\n",
    "        q = Atb + rho*(z - u) # temp value\n",
    "        if N >= M: # tall\n",
    "            # x = U \\ (L \\ q);\n",
    "            temp = npl.lstsq(L, q, rcond=None)[0]\n",
    "            x = npl.lstsq(U, temp, rcond=None)[0]\n",
    "        else: # wide\n",
    "            # x = q/rho - (A'*(U \\ (L \\ (A*q))))/rho^2;\n",
    "            ### just for now ###\n",
    "            break \n",
    "\n",
    "        # z-update with relaxation\n",
    "        zprev = z\n",
    "        xhat = alpha*x + (1 - alpha)*zprev\n",
    "        z = shrinkage(xhat + u, lam/rho)\n",
    "\n",
    "        # u-update\n",
    "        u = u + (xhat - z)\n",
    "\n",
    "        # bookkeeping\n",
    "        hist['objval'] += [objective(A, b, lam, x, z)]\n",
    "        hist['r_norm'] += [npl.norm(x - z, ord=2)]\n",
    "        hist['s_norm'] += [npl.norm(-rho*(z - zprev))]\n",
    "        hist['eps_pri'] += [np.sqrt(N)*ABSTOL + RELTOL*max(npl.norm(x), npl.norm(-z))]\n",
    "        hist['eps_dual'] += [np.sqrt(N)*ABSTOL + RELTOL*npl.norm(rho*u)]\n",
    "\n",
    "        # termination condition\n",
    "        if hist['r_norm'][k] < hist['eps_pri'][k] and hist['s_norm'][k] < hist['eps_dual'][k]:\n",
    "            break\n",
    "    \n",
    "    return x, hist"
   ]
  },
  {
   "cell_type": "code",
   "execution_count": 6,
   "metadata": {},
   "outputs": [
    {
     "data": {
      "text/plain": [
       "[<matplotlib.lines.Line2D at 0x11f8530d0>]"
      ]
     },
     "execution_count": 6,
     "metadata": {},
     "output_type": "execute_result"
    },
    {
     "data": {
      "image/png": "[encoded data removed]",
      "text/plain": [
       "<Figure size 432x288 with 1 Axes>"
      ]
     },
     "metadata": {
      "needs_background": "light"
     },
     "output_type": "display_data"
    }
   ],
   "source": [
    "# results\n",
    "x, hist = lasso(A, b, lam, rho, alpha)\n",
    "K = len(hist['objval'])\n",
    "plt.plot(hist['objval'])"
   ]
  },
  {
   "cell_type": "code",
   "execution_count": 9,
   "metadata": {},
   "outputs": [
    {
     "data": {
      "text/plain": [
       "<matplotlib.legend.Legend at 0x11f964370>"
      ]
     },
     "execution_count": 9,
     "metadata": {},
     "output_type": "execute_result"
    },
    {
     "data": {
      "image/png": "[encoded data removed]",
      "text/plain": [
       "<Figure size 432x288 with 1 Axes>"
      ]
     },
     "metadata": {
      "needs_background": "light"
     },
     "output_type": "display_data"
    }
   ],
   "source": [
    "plt.plot(hist['eps_pri'], 'C0-', label='eps_pri')\n",
    "plt.plot(hist['r_norm'], 'C0--', label='r_norm')\n",
    "plt.plot(hist['eps_dual'], 'C1-', label='eps_dual')\n",
    "plt.plot(hist['s_norm'], 'C1--', label='s_norm')\n",
    "plt.yscale('log')\n",
    "plt.legend()"
   ]
  },
  {
   "cell_type": "code",
   "execution_count": 8,
   "metadata": {},
   "outputs": [
    {
     "name": "stdout",
     "output_type": "stream",
     "text": [
      "iter\tr_norm\t\teps_pri\t\ts_norm\t\teps_dual\n",
      "0\t11.0841\t\t0.1909\t\t9.1823\t\t0.1179\n",
      "1\t2.0857\t\t0.1874\t\t9.0121\t\t0.1283\n",
      "2\t0.9058\t\t0.2290\t\t4.4851\t\t0.1307\n",
      "3\t0.6117\t\t0.2503\t\t2.3274\t\t0.1314\n",
      "4\t0.4212\t\t0.2613\t\t1.2919\t\t0.1316\n",
      "5\t0.2815\t\t0.2672\t\t0.7617\t\t0.1316\n",
      "6\t0.1856\t\t0.2705\t\t0.4704\t\t0.1315\n",
      "7\t0.1219\t\t0.2724\t\t0.3004\t\t0.1315\n",
      "8\t0.0789\t\t0.2735\t\t0.1970\t\t0.1314\n",
      "9\t0.0514\t\t0.2742\t\t0.1317\t\t0.1314\n",
      "10\t0.0338\t\t0.2746\t\t0.0894\t\t0.1314\n"
     ]
    }
   ],
   "source": [
    "print(\"iter\\tr_norm\\t\\teps_pri\\t\\ts_norm\\t\\teps_dual\")\n",
    "for k in range(K):\n",
    "    print(\"%d\\t%.4f\\t\\t%.4f\\t\\t%.4f\\t\\t%.4f\"\n",
    "          %(k, hist['r_norm'][k], hist['eps_pri'][k], hist['s_norm'][k], hist['eps_dual'][k]))"
   ]
  }
 ],
 "metadata": {
  "kernelspec": {
   "display_name": "Python 3",
   "language": "python",
   "name": "python3"
  },
  "language_info": {
   "codemirror_mode": {
    "name": "ipython",
    "version": 3
   },
   "file_extension": ".py",
   "mimetype": "text/x-python",
   "name": "python",
   "nbconvert_exporter": "python",
   "pygments_lexer": "ipython3",
   "version": "3.8.5"
  }
 },
 "nbformat": 4,
 "nbformat_minor": 4
}
