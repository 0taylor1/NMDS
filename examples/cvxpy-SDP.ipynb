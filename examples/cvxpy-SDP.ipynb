{
 "cells": [
  {
   "cell_type": "code",
   "execution_count": 1,
   "metadata": {},
   "outputs": [],
   "source": [
    "import numpy as np\n",
    "import cvxpy as cp\n",
    "import matplotlib.pyplot as plt"
   ]
  },
  {
   "cell_type": "code",
   "execution_count": 2,
   "metadata": {},
   "outputs": [
    {
     "name": "stdout",
     "output_type": "stream",
     "text": [
      "2.654351510231603\n",
      "[[ 1.60805795 -0.59770492 -0.69576152]\n",
      " [-0.59770492  0.22229041  0.24689363]\n",
      " [-0.69576152  0.24689363  1.39679885]]\n"
     ]
    }
   ],
   "source": [
    "'''\n",
    "SDP of form\n",
    "    minimize tr(CX)\n",
    "    subject to tr(A_iX) = b_i, i=1,...,p\n",
    "    X PSD\n",
    "Variable - X\n",
    "Problem data - S^n (set of nxn symm matrices)\n",
    "            C, A_1,...,A_p \\in S^n\n",
    "            b_1,...,b_p \\in \\R\n",
    "''' \n",
    "\n",
    "# generate random SDP\n",
    "n = 3\n",
    "p = 3\n",
    "np.random.seed(1)\n",
    "C = np.random.randn(n,n)\n",
    "A = [] # conditions\n",
    "b = []\n",
    "for i in range(p):\n",
    "    A.append(np.random.randn(n,n))\n",
    "    b.append(np.random.randn())\n",
    "\n",
    "# symmetric matrix\n",
    "X = cp.Variable((n,n), symmetric=True)\n",
    "constraints = [X >> 0]\n",
    "constraints += [cp.trace(A[i]@X) == b[i] for i in range(p)]\n",
    "prob = cp.Problem(cp.Minimize(cp.trace(C@X)), constraints)\n",
    "prob.solve()\n",
    "\n",
    "print(prob.value) # optimal value\n",
    "print(X.value) # solution X\n"
   ]
  },
  {
   "cell_type": "code",
   "execution_count": 3,
   "metadata": {},
   "outputs": [
    {
     "name": "stdout",
     "output_type": "stream",
     "text": [
      "0.04221368446072571\n",
      "0.04221374671559283\n",
      "[2.38287761e+00 8.44267838e-01 1.76352325e-06]\n"
     ]
    }
   ],
   "source": [
    "print(np.trace(A[0]@X.value))\n",
    "print(b[0])\n",
    "lams, V = np.linalg.eig(X.value)\n",
    "print(lams)"
   ]
  }
 ],
 "metadata": {
  "kernelspec": {
   "display_name": "Python 3",
   "language": "python",
   "name": "python3"
  },
  "language_info": {
   "codemirror_mode": {
    "name": "ipython",
    "version": 3
   },
   "file_extension": ".py",
   "mimetype": "text/x-python",
   "name": "python",
   "nbconvert_exporter": "python",
   "pygments_lexer": "ipython3",
   "version": "3.8.5"
  }
 },
 "nbformat": 4,
 "nbformat_minor": 4
}
