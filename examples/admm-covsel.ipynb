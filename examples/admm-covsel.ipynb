{
 "cells": [
  {
   "cell_type": "markdown",
   "metadata": {},
   "source": [
    "## Example: Sparse inverse covariance selection via ADMM\n",
    "https://web.stanford.edu/~boyd/papers/admm/covsel/covsel.html\n",
    "https://web.stanford.edu/~boyd/papers/admm/covsel/covsel_example.html\n",
    "\n",
    "objective\n",
    "$$\n",
    "\\text{minimize } tr(SX) - log det X + \\lambda \\|x\\|_1\n",
    "$$"
   ]
  },
  {
   "cell_type": "code",
   "execution_count": 1,
   "metadata": {},
   "outputs": [],
   "source": [
    "import numpy as np\n",
    "import scipy as sp\n",
    "import numpy.linalg as npl\n",
    "import scipy.linalg as spl\n",
    "import matplotlib.pyplot as plt\n",
    "np.set_printoptions(precision=2)\n",
    "\n",
    "# default globals\n",
    "MAX_ITER = 1000\n",
    "ABSTOL = 1e-4\n",
    "RELTOL = 1e-2"
   ]
  },
  {
   "cell_type": "code",
   "execution_count": 2,
   "metadata": {},
   "outputs": [],
   "source": [
    "# generate data\n",
    "np.random.seed(1)\n",
    "M = 100 # num features\n",
    "N = 10*M # num samples\n",
    "\n",
    "# positive definite inverse covariance matrix\n",
    "Sinv = np.diag(np.ones(M)) # MxM covinv\n",
    "idx = np.random.choice(M, size=int(0.001*M**2), replace=False)\n",
    "Sinv.flat[idx] = np.ones(idx.shape[0])\n",
    "\n",
    "Sinv = Sinv + Sinv.T # make symmetric\n",
    "eig, _ = npl.eig(Sinv)\n",
    "if np.min(eig) < 0:\n",
    "    Sinv += 1.1*np.abs(np.min(eig))*np.eye(M) # make PD\n",
    "\n",
    "S0 = npl.inv(Sinv)\n",
    "\n",
    "# generate gaussian samples\n",
    "D = np.random.multivariate_normal(np.zeros(M), S0, N) # NxM\n",
    "\n",
    "rho = 1.0\n",
    "alpha = 1.0\n",
    "lam = 0.01"
   ]
  },
  {
   "cell_type": "code",
   "execution_count": 3,
   "metadata": {},
   "outputs": [],
   "source": [
    "def objective(S, X, Z, lam):\n",
    "    return np.trace(S@X) - np.log(npl.det(X)) + lam*npl.norm(Z, ord=1)\n",
    "\n",
    "def shrinkage(x, kappa):\n",
    "    q1 = x - kappa\n",
    "    q1[q1<0] = 0\n",
    "    q2 = -x - kappa \n",
    "    q2[q2<0] = 0\n",
    "    return q1 - q2"
   ]
  },
  {
   "cell_type": "code",
   "execution_count": 4,
   "metadata": {},
   "outputs": [],
   "source": [
    "def covsel(D, lam, rho, alpha):\n",
    "    '''\n",
    "    Solve sparse inverse covsel via ADMM:\n",
    "        minimize tr(SX) - logdet(X) + \\lambda ||x||_1\n",
    "\n",
    "        S - emprical covariance\n",
    "        D - data matrix\n",
    "        hist - logs objective value, primal/dual residual norms, primal/dual tolerances\n",
    "        rho - augmented Lagrangian param\n",
    "        alpha - over-relaxation param\n",
    "    '''\n",
    "    S = np.cov(D, rowvar=False) # NxN\n",
    "    N = S.shape[0]\n",
    "\n",
    "    X = np.zeros(M)\n",
    "    Z = np.zeros(M)\n",
    "    U = np.zeros(M)\n",
    "\n",
    "    hist = {}\n",
    "    hist['objval'] = []\n",
    "    hist['r_norm'] = []\n",
    "    hist['s_norm'] = []\n",
    "    hist['eps_pri'] = []\n",
    "    hist['eps_dual'] = []\n",
    "\n",
    "    for k in range(MAX_ITER):\n",
    "        # X-update\n",
    "        L, Q = npl.eig(rho*(Z - U) - S)\n",
    "        xi = (L + np.sqrt(L**2 + 4*rho))/(2*rho) # see notes p.4\n",
    "        X = Q@np.diag(xi)@Q.T\n",
    "\n",
    "        # Z-update\n",
    "        Zprev = Z\n",
    "        Xhat = alpha*X + (1 - alpha)*Zprev\n",
    "        Z = shrinkage(Xhat + U, lam/rho)\n",
    "\n",
    "        U = U + (Xhat - Z)\n",
    "\n",
    "        # bookkeeping\n",
    "        hist['objval'] += [objective(S, X, Z, lam)]\n",
    "        hist['r_norm'] += [npl.norm(X - Z)]\n",
    "        hist['s_norm'] += [npl.norm(-rho*(Z - Zprev))]\n",
    "        hist['eps_pri'] += [np.sqrt(M*M)*ABSTOL + RELTOL*max(npl.norm(X), npl.norm(Z))]\n",
    "        hist['eps_dual'] += [np.sqrt(M*M)*ABSTOL + RELTOL*npl.norm(rho*U)]\n",
    "\n",
    "        # termination condition\n",
    "        if hist['r_norm'][k] < hist['eps_pri'][k] and hist['s_norm'][k] < hist['eps_dual'][k]:\n",
    "            print(\"terminate\")\n",
    "            break\n",
    "\n",
    "    return X, hist"
   ]
  },
  {
   "cell_type": "code",
   "execution_count": 5,
   "metadata": {},
   "outputs": [
    {
     "name": "stdout",
     "output_type": "stream",
     "text": [
      "terminate\n"
     ]
    }
   ],
   "source": [
    "X, hist = covsel(D, lam, rho, alpha)"
   ]
  },
  {
   "cell_type": "code",
   "execution_count": 6,
   "metadata": {},
   "outputs": [
    {
     "data": {
      "text/plain": [
       "[<matplotlib.lines.Line2D at 0x125014190>]"
      ]
     },
     "execution_count": 6,
     "metadata": {},
     "output_type": "execute_result"
    },
    {
     "data": {
      "image/png": "[encoded data removed]",
      "text/plain": [
       "<Figure size 432x288 with 1 Axes>"
      ]
     },
     "metadata": {
      "needs_background": "light"
     },
     "output_type": "display_data"
    }
   ],
   "source": [
    "K = len(hist['objval'])\n",
    "plt.plot(hist['objval'])"
   ]
  },
  {
   "cell_type": "code",
   "execution_count": 7,
   "metadata": {},
   "outputs": [
    {
     "data": {
      "text/plain": [
       "<matplotlib.legend.Legend at 0x12503cd30>"
      ]
     },
     "execution_count": 7,
     "metadata": {},
     "output_type": "execute_result"
    },
    {
     "data": {
      "image/png": "[encoded data removed]",
      "text/plain": [
       "<Figure size 432x288 with 1 Axes>"
      ]
     },
     "metadata": {
      "needs_background": "light"
     },
     "output_type": "display_data"
    }
   ],
   "source": [
    "plt.plot(hist['eps_pri'], 'C0-', label='eps_pri')\n",
    "plt.plot(hist['r_norm'], 'C0--', label='r_norm')\n",
    "plt.plot(hist['eps_dual'], 'C1-', label='eps_dual')\n",
    "plt.plot(hist['s_norm'], 'C1--', label='s_norm')\n",
    "plt.yscale('log')\n",
    "plt.legend()"
   ]
  },
  {
   "cell_type": "code",
   "execution_count": 8,
   "metadata": {},
   "outputs": [
    {
     "name": "stdout",
     "output_type": "stream",
     "text": [
      "iter\tr_norm\t\teps_pri\t\ts_norm\t\teps_dual\n",
      "0\t0.4232\t\t0.0958\t\t8.4605\t\t0.0142\n",
      "1\t0.2548\t\t0.1398\t\t4.5185\t\t0.0165\n",
      "2\t0.0854\t\t0.1703\t\t3.0644\t\t0.0170\n",
      "3\t0.0292\t\t0.1933\t\t2.2961\t\t0.0172\n",
      "4\t0.0172\t\t0.2114\t\t1.8143\t\t0.0172\n",
      "5\t0.0133\t\t0.2261\t\t1.4818\t\t0.0172\n",
      "6\t0.0106\t\t0.2385\t\t1.2380\t\t0.0172\n",
      "7\t0.0099\t\t0.2489\t\t1.0515\t\t0.0172\n",
      "8\t0.0095\t\t0.2579\t\t0.9044\t\t0.0172\n",
      "9\t0.0096\t\t0.2657\t\t0.7857\t\t0.0172\n",
      "10\t0.0089\t\t0.2725\t\t0.6880\t\t0.0172\n",
      "11\t0.0081\t\t0.2785\t\t0.6065\t\t0.0172\n",
      "12\t0.0093\t\t0.2838\t\t0.5376\t\t0.0172\n",
      "13\t0.0075\t\t0.2885\t\t0.4788\t\t0.0172\n",
      "14\t0.0083\t\t0.2927\t\t0.4283\t\t0.0172\n",
      "15\t0.0052\t\t0.2965\t\t0.3845\t\t0.0172\n",
      "16\t0.0061\t\t0.2999\t\t0.3462\t\t0.0172\n",
      "17\t0.0075\t\t0.3029\t\t0.3126\t\t0.0172\n",
      "18\t0.0083\t\t0.3056\t\t0.2829\t\t0.0172\n",
      "19\t0.0070\t\t0.3081\t\t0.2567\t\t0.0172\n",
      "20\t0.0075\t\t0.3104\t\t0.2334\t\t0.0172\n",
      "21\t0.0043\t\t0.3124\t\t0.2126\t\t0.0172\n",
      "22\t0.0026\t\t0.3142\t\t0.1941\t\t0.0172\n",
      "23\t0.0038\t\t0.3159\t\t0.1774\t\t0.0172\n",
      "24\t0.0034\t\t0.3175\t\t0.1625\t\t0.0172\n",
      "25\t0.0022\t\t0.3189\t\t0.1490\t\t0.0172\n",
      "26\t0.0047\t\t0.3201\t\t0.1368\t\t0.0172\n",
      "27\t0.0070\t\t0.3213\t\t0.1256\t\t0.0172\n",
      "28\t0.0034\t\t0.3224\t\t0.1156\t\t0.0172\n",
      "29\t0.0019\t\t0.3234\t\t0.1066\t\t0.0171\n",
      "30\t0.0030\t\t0.3242\t\t0.0982\t\t0.0171\n",
      "31\t0.0039\t\t0.3251\t\t0.0906\t\t0.0171\n",
      "32\t0.0019\t\t0.3258\t\t0.0838\t\t0.0171\n",
      "33\t0.0013\t\t0.3265\t\t0.0775\t\t0.0171\n",
      "34\t0.0011\t\t0.3272\t\t0.0718\t\t0.0171\n",
      "35\t0.0010\t\t0.3278\t\t0.0666\t\t0.0171\n",
      "36\t0.0010\t\t0.3283\t\t0.0618\t\t0.0171\n",
      "37\t0.0009\t\t0.3288\t\t0.0574\t\t0.0171\n",
      "38\t0.0009\t\t0.3292\t\t0.0533\t\t0.0171\n",
      "39\t0.0008\t\t0.3297\t\t0.0496\t\t0.0171\n",
      "40\t0.0020\t\t0.3301\t\t0.0462\t\t0.0171\n",
      "41\t0.0013\t\t0.3304\t\t0.0430\t\t0.0171\n",
      "42\t0.0008\t\t0.3308\t\t0.0401\t\t0.0171\n",
      "43\t0.0007\t\t0.3311\t\t0.0375\t\t0.0171\n",
      "44\t0.0018\t\t0.3314\t\t0.0349\t\t0.0171\n",
      "45\t0.0010\t\t0.3316\t\t0.0326\t\t0.0171\n",
      "46\t0.0007\t\t0.3319\t\t0.0305\t\t0.0171\n",
      "47\t0.0006\t\t0.3321\t\t0.0286\t\t0.0171\n",
      "48\t0.0006\t\t0.3323\t\t0.0268\t\t0.0171\n",
      "49\t0.0006\t\t0.3325\t\t0.0251\t\t0.0171\n",
      "50\t0.0018\t\t0.3327\t\t0.0235\t\t0.0171\n",
      "51\t0.0008\t\t0.3328\t\t0.0220\t\t0.0171\n",
      "52\t0.0007\t\t0.3330\t\t0.0207\t\t0.0171\n",
      "53\t0.0013\t\t0.3331\t\t0.0194\t\t0.0171\n",
      "54\t0.0006\t\t0.3333\t\t0.0182\t\t0.0171\n",
      "55\t0.0004\t\t0.3334\t\t0.0171\t\t0.0171\n"
     ]
    }
   ],
   "source": [
    "print(\"iter\\tr_norm\\t\\teps_pri\\t\\ts_norm\\t\\teps_dual\")\n",
    "for k in range(K):\n",
    "    print(\"%d\\t%.4f\\t\\t%.4f\\t\\t%.4f\\t\\t%.4f\"\n",
    "          %(k, hist['r_norm'][k], hist['eps_pri'][k], hist['s_norm'][k], hist['eps_dual'][k]))"
   ]
  }
 ],
 "metadata": {
  "kernelspec": {
   "display_name": "Python 3",
   "language": "python",
   "name": "python3"
  },
  "language_info": {
   "codemirror_mode": {
    "name": "ipython",
    "version": 3
   },
   "file_extension": ".py",
   "mimetype": "text/x-python",
   "name": "python",
   "nbconvert_exporter": "python",
   "pygments_lexer": "ipython3",
   "version": "3.8.5"
  }
 },
 "nbformat": 4,
 "nbformat_minor": 4
}
