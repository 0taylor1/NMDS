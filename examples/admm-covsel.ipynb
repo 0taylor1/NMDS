{
 "cells": [
  {
   "cell_type": "markdown",
   "metadata": {},
   "source": [
    "## Example: Sparse inverse covariance selection via ADMM\n",
    "https://web.stanford.edu/~boyd/papers/admm/covsel/covsel.html\n",
    "https://web.stanford.edu/~boyd/papers/admm/covsel/covsel_example.html\n",
    "\n",
    "objective\n",
    "$$\n",
    "\\text{minimize } tr(SX) - log det X + \\lambda \\|x\\|_1\n",
    "$$"
   ]
  },
  {
   "cell_type": "code",
   "execution_count": 1,
   "metadata": {},
   "outputs": [],
   "source": [
    "import numpy as np\n",
    "import scipy as sp\n",
    "import numpy.linalg as npl\n",
    "import scipy.linalg as spl\n",
    "import matplotlib.pyplot as plt\n",
    "np.set_printoptions(precision=2)\n",
    "\n",
    "# default globals\n",
    "MAX_ITER = 1000\n",
    "ABSTOL = 1e-4\n",
    "RELTOL = 1e-2"
   ]
  },
  {
   "cell_type": "code",
   "execution_count": 2,
   "metadata": {},
   "outputs": [],
   "source": [
    "# generate data\n",
    "np.random.seed(1)\n",
    "M = 100 # num features\n",
    "N = 10*M # num samples\n",
    "\n",
    "# positive definite inverse covariance matrix\n",
    "Sinv = np.diag(np.ones(M)) # MxM covinv\n",
    "idx = np.random.choice(M, size=int(0.001*M**2), replace=False)\n",
    "Sinv.flat[idx] = np.ones(idx.shape[0])\n",
    "\n",
    "Sinv = Sinv + Sinv.T # make symmetric\n",
    "eig, _ = npl.eig(Sinv)\n",
    "if np.min(eig) < 0:\n",
    "    Sinv += 1.1*np.abs(np.min(eig))*np.eye(M) # make PD\n",
    "\n",
    "S0 = npl.inv(Sinv)\n",
    "\n",
    "# generate gaussian samples\n",
    "D = np.random.multivariate_normal(np.zeros(M), S0, N) # NxM\n",
    "\n",
    "rho = 1.0\n",
    "alpha = 1.0\n",
    "lam = 0.01"
   ]
  },
  {
   "cell_type": "code",
   "execution_count": 3,
   "metadata": {},
   "outputs": [],
   "source": [
    "def objective(S, X, Z, lam):\n",
    "    return np.trace(S@X) - np.log(npl.det(X)) + lam*npl.norm(Z, ord=1)\n",
    "\n",
    "def shrinkage(x, kappa):\n",
    "    q1 = x - kappa\n",
    "    q1[q1<0] = 0\n",
    "    q2 = -x - kappa \n",
    "    q2[q2<0] = 0\n",
    "    return q1 - q2"
   ]
  },
  {
   "cell_type": "code",
   "execution_count": 4,
   "metadata": {},
   "outputs": [],
   "source": [
    "def covsel(D, lam, rho, alpha):\n",
    "    '''\n",
    "    Solve sparse inverse covsel via ADMM:\n",
    "        minimize tr(SX) - logdet(X) + \\lambda ||x||_1\n",
    "\n",
    "        S - emprical covariance\n",
    "        D - data matrix\n",
    "        hist - logs objective value, primal/dual residual norms, primal/dual tolerances\n",
    "        rho - augmented Lagrangian param\n",
    "        alpha - over-relaxation param\n",
    "    '''\n",
    "    S = np.cov(D, rowvar=False) # NxN\n",
    "    N = S.shape[0]\n",
    "\n",
    "    X = np.zeros(M)\n",
    "    Z = np.zeros(M)\n",
    "    U = np.zeros(M)\n",
    "\n",
    "    hist = {}\n",
    "    hist['objval'] = []\n",
    "    hist['r_norm'] = []\n",
    "    hist['s_norm'] = []\n",
    "    hist['eps_pri'] = []\n",
    "    hist['eps_dual'] = []\n",
    "\n",
    "    for k in range(MAX_ITER):\n",
    "        # X-update\n",
    "        L, Q = npl.eig(rho*(Z - U) - S)\n",
    "        xi = (L + np.sqrt(L**2 + 4*rho))/(2*rho) # see notes p.4\n",
    "        X = Q@np.diag(xi)@Q.T\n",
    "\n",
    "        # Z-update\n",
    "        Zprev = Z\n",
    "        Xhat = alpha*X + (1 - alpha)*Zprev\n",
    "        Z = shrinkage(Xhat + U, lam/rho)\n",
    "\n",
    "        U = U + (Xhat - Z)\n",
    "\n",
    "        # bookkeeping\n",
    "        hist['objval'] += [objective(S, X, Z, lam)]\n",
    "        hist['r_norm'] += [npl.norm(X - Z)]\n",
    "        hist['s_norm'] += [npl.norm(-rho*(Z - Zprev))]\n",
    "        hist['eps_pri'] += [np.sqrt(M*M)*ABSTOL + RELTOL*max(npl.norm(X), npl.norm(Z))]\n",
    "        hist['eps_dual'] += [np.sqrt(M*M)*ABSTOL + RELTOL*npl.norm(rho*U)]\n",
    "\n",
    "        # termination condition\n",
    "        if hist['r_norm'][k] < hist['eps_pri'][k] and hist['s_norm'][k] < hist['eps_dual'][k]:\n",
    "                break\n",
    "\n",
    "        return X, hist"
   ]
  },
  {
   "cell_type": "code",
   "execution_count": 5,
   "metadata": {},
   "outputs": [],
   "source": [
    "X, hist = covsel(D, lam, rho, alpha)"
   ]
  },
  {
   "cell_type": "code",
   "execution_count": 6,
   "metadata": {},
   "outputs": [
    {
     "data": {
      "text/plain": [
       "[<matplotlib.lines.Line2D at 0x11ef3d160>]"
      ]
     },
     "execution_count": 6,
     "metadata": {},
     "output_type": "execute_result"
    },
    {
     "data": {
      "image/png": "[encoded data removed]",
      "text/plain": [
       "<Figure size 432x288 with 1 Axes>"
      ]
     },
     "metadata": {
      "needs_background": "light"
     },
     "output_type": "display_data"
    }
   ],
   "source": [
    "K = len(hist['objval'])\n",
    "plt.plot(hist['objval'])"
   ]
  },
  {
   "cell_type": "code",
   "execution_count": 7,
   "metadata": {},
   "outputs": [
    {
     "data": {
      "text/plain": [
       "<matplotlib.legend.Legend at 0x11ef91340>"
      ]
     },
     "execution_count": 7,
     "metadata": {},
     "output_type": "execute_result"
    },
    {
     "data": {
      "image/png": "[encoded data removed]",
      "text/plain": [
       "<Figure size 432x288 with 1 Axes>"
      ]
     },
     "metadata": {
      "needs_background": "light"
     },
     "output_type": "display_data"
    }
   ],
   "source": [
    "plt.plot(hist['eps_pri'], 'C0-', label='eps_pri')\n",
    "plt.plot(hist['r_norm'], 'C0--', label='r_norm')\n",
    "plt.plot(hist['eps_dual'], 'C1-', label='eps_dual')\n",
    "plt.plot(hist['s_norm'], 'C1--', label='s_norm')\n",
    "plt.yscale('log')\n",
    "plt.legend()"
   ]
  },
  {
   "cell_type": "code",
   "execution_count": 8,
   "metadata": {},
   "outputs": [
    {
     "name": "stdout",
     "output_type": "stream",
     "text": [
      "iter\tr_norm\t\teps_pri\t\ts_norm\t\teps_dual\n",
      "0\t0.4232\t\t0.0958\t\t8.4605\t\t0.0142\n"
     ]
    }
   ],
   "source": [
    "print(\"iter\\tr_norm\\t\\teps_pri\\t\\ts_norm\\t\\teps_dual\")\n",
    "for k in range(K):\n",
    "    print(\"%d\\t%.4f\\t\\t%.4f\\t\\t%.4f\\t\\t%.4f\"\n",
    "          %(k, hist['r_norm'][k], hist['eps_pri'][k], hist['s_norm'][k], hist['eps_dual'][k]))"
   ]
  }
 ],
 "metadata": {
  "kernelspec": {
   "display_name": "Python 3",
   "language": "python",
   "name": "python3"
  },
  "language_info": {
   "codemirror_mode": {
    "name": "ipython",
    "version": 3
   },
   "file_extension": ".py",
   "mimetype": "text/x-python",
   "name": "python",
   "nbconvert_exporter": "python",
   "pygments_lexer": "ipython3",
   "version": "3.8.5"
  }
 },
 "nbformat": 4,
 "nbformat_minor": 4
}
