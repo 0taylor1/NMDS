{
 "cells": [
  {
   "cell_type": "code",
   "execution_count": 33,
   "metadata": {},
   "outputs": [],
   "source": [
    "import numpy as np\n",
    "import matplotlib.pyplot as plt\n",
    "import cvxpy as cp\n",
    "import numpy.linalg as npl\n",
    "np.set_printoptions(precision=2)\n",
    "\n",
    "X = np.loadtxt(\"./data/MNIST5.csv\", delimiter=',')\n",
    "# take some of the data\n",
    "X = X[:100]"
   ]
  },
  {
   "cell_type": "code",
   "execution_count": 34,
   "metadata": {},
   "outputs": [],
   "source": [
    "# generate ordering set\n",
    "N, M = X.shape\n",
    "X -= np.mean(X) # center\n",
    "D = np.array([[npl.norm(X[i]-X[j]) for i in range(N)] for j in range(N)])\n",
    "\n",
    "imap = {} # map array index to matrix index\n",
    "i = 0\n",
    "d = np.array([])\n",
    "for r in range(N):\n",
    "    for c in range(r+1, N):\n",
    "        imap[i] = (r, c)\n",
    "        d = np.append(d, D[r,c])\n",
    "        i += 1\n",
    "        \n",
    "idx = np.argsort(d)\n",
    "d = d[idx]\n",
    "d, unique_idx = np.unique(d, return_index=True)\n",
    "idx = idx[unique_idx]\n",
    "# print(d)\n",
    "\n",
    "# compare adjacent : len(d)-1 comparisons\n",
    "# S = [imap[idx[i]] + imap[idx[i+1]] for i in range(len(idx)-1)] \n",
    "\n",
    "# full order : len(d)C2 comparisons\n",
    "S = [imap[idx[i]] + imap[idx[j]] for i in range(len(idx)) for j in range(i+1,len(idx))] "
   ]
  },
  {
   "cell_type": "code",
   "execution_count": 35,
   "metadata": {},
   "outputs": [],
   "source": [
    "# inequality constraints\n",
    "A = []\n",
    "for (i,j,k,l) in S:\n",
    "    a = np.zeros((N,N))\n",
    "    a[k,k] += 1\n",
    "    a[k,l] += -2\n",
    "    a[l,l] += 1\n",
    "    a[i,i] += -1\n",
    "    a[i,j] += 2\n",
    "    a[j,j] += -1\n",
    "    A.append(a)\n",
    "    \n",
    "# problem\n",
    "K_ = cp.Variable((N,N), symmetric=True) # gram matrix\n",
    "E = cp.Variable((len(S),1), nonneg=True) # slack\n",
    "\n",
    "diff = 1 # force difference between comparisons\n",
    "gamma = 0.12 # reg param for rank\n",
    "\n",
    "constraints = []\n",
    "constraints += [K_ >> 0] # PSD\n",
    "constraints += [cp.sum(K_) == 0] # center\n",
    "constraints += [cp.trace(A[e]@K_) >= (diff - E[e]) for e in range(len(S))]\n",
    "\n",
    "error = cp.sum(E)\n",
    "obj = cp.Minimize(error + gamma*cp.trace(K_))\n",
    "prob = cp.Problem(obj, constraints)\n",
    "# prob.solve()"
   ]
  },
  {
   "cell_type": "code",
   "execution_count": 36,
   "metadata": {},
   "outputs": [
    {
     "name": "stdout",
     "output_type": "stream",
     "text": [
      "CPU times: user 4.39 s, sys: 312 ms, total: 4.7 s\n",
      "Wall time: 4.43 s\n"
     ]
    },
    {
     "name": "stderr",
     "output_type": "stream",
     "text": [
      "/usr/local/lib/python3.8/site-packages/cvxpy/problems/problem.py:1267: UserWarning: Solution may be inaccurate. Try another solver, adjusting the solver settings, or solve with verbose=True for more information.\n",
      "  warnings.warn(\n"
     ]
    },
    {
     "data": {
      "text/plain": [
       "14.853400302500877"
      ]
     },
     "execution_count": 36,
     "metadata": {},
     "output_type": "execute_result"
    }
   ],
   "source": [
    "%time prob.solve()"
   ]
  },
  {
   "cell_type": "code",
   "execution_count": 37,
   "metadata": {},
   "outputs": [
    {
     "name": "stdout",
     "output_type": "stream",
     "text": [
      "[  554316.83   738433.76  1058163.28  1612290.26  1938798.13  2217109.07\n",
      "  2850902.    4245789.48  8393224.18 13310327.62]\n",
      "[-1.82e-06 -4.15e-10  1.85e+00  2.90e+00  3.27e+00  9.43e+00  1.37e+01\n",
      "  1.61e+01  2.29e+01  5.35e+01]\n"
     ]
    }
   ],
   "source": [
    "K = X@X.T\n",
    "U, V = npl.eigh(K_.value)\n",
    "print(npl.eigh(K)[0])\n",
    "print(npl.eigh(K_.value)[0])"
   ]
  },
  {
   "cell_type": "code",
   "execution_count": 38,
   "metadata": {},
   "outputs": [],
   "source": [
    "from matplotlib import offsetbox"
   ]
  },
  {
   "cell_type": "code",
   "execution_count": 39,
   "metadata": {},
   "outputs": [
    {
     "data": {
      "image/png": "[encoded data removed]",
      "text/plain": [
       "<Figure size 720x720 with 1 Axes>"
      ]
     },
     "metadata": {
      "needs_background": "light"
     },
     "output_type": "display_data"
    }
   ],
   "source": [
    "# plot 2-dimensional embedding\n",
    "plt.figure(figsize=(10,10))\n",
    "ax = plt.subplot(111)\n",
    "\n",
    "U = U[-2:]\n",
    "V = V[-2:]\n",
    "X_ = (np.diag(U**0.5)@V).T\n",
    "\n",
    "# scale\n",
    "x_min, x_max = np.min(X_, 0), np.max(X_, 0)\n",
    "X_ = (X_ - x_min)/(x_max - x_min)\n",
    "\n",
    "plt.plot(X_[:,0], X_[:,1], 'C0.')\n",
    "\n",
    "# plot representatives\n",
    "shown_images = np.array([[1., 1.]]) # something big\n",
    "for i in range(X_.shape[0]):\n",
    "    dist = np.sum((X_[i] - shown_images)**2, 1)\n",
    "    if np.min(dist) < 4e-3:\n",
    "        continue # skip points that are too close\n",
    "    shown_images = np.r_[shown_images, [X_[i]]]\n",
    "    imagebox = offsetbox.AnnotationBbox(\n",
    "                offsetbox.OffsetImage(\n",
    "                    X[i].reshape(28, 28).T, cmap='Blues'), X_[i])\n",
    "    ax.add_artist(imagebox)"
   ]
  },
  {
   "cell_type": "code",
   "execution_count": 40,
   "metadata": {},
   "outputs": [
    {
     "data": {
      "image/png": "[encoded data removed]",
      "text/plain": [
       "<Figure size 864x288 with 4 Axes>"
      ]
     },
     "metadata": {
      "needs_background": "light"
     },
     "output_type": "display_data"
    }
   ],
   "source": [
    "plt.figure(figsize=(12,4))\n",
    "plt.subplot(121)\n",
    "plt.imshow(X@X.T, zorder=2, cmap='Blues', interpolation='nearest')\n",
    "plt.colorbar();\n",
    "plt.subplot(122)\n",
    "plt.imshow(K_.value, zorder=2, cmap='Blues', interpolation='nearest')\n",
    "plt.colorbar();"
   ]
  },
  {
   "cell_type": "code",
   "execution_count": 41,
   "metadata": {},
   "outputs": [
    {
     "name": "stdout",
     "output_type": "stream",
     "text": [
      "11.000\n",
      "0.537\n",
      "1.000\n"
     ]
    }
   ],
   "source": [
    "# new distance matrix\n",
    "D_ = np.array([[npl.norm(X_[i]-X_[j]) for i in range(N)] for j in range(N)])\n",
    "\n",
    "# check if ordering is preserved\n",
    "# based on distance matrix from positions\n",
    "D_before = np.zeros(len(S))\n",
    "D_after = np.zeros(len(S))\n",
    "\n",
    "# based on gram matrix\n",
    "K_before = np.zeros(len(S))\n",
    "K_after = np.zeros(len(S))\n",
    "\n",
    "for s in range(len(S)):\n",
    "    (i,j,k,l) = S[s]\n",
    "    D_before[s] = D[i,j] <= D[k,l]\n",
    "    D_after[s] = D_[i,j] <= D_[k,l]\n",
    "    K_before[s] = np.trace(A[s]@K) >= 0\n",
    "    K_after[s] = np.trace(A[s]@K_.value) >= 0\n",
    "\n",
    "# fraction of orderings preserved\n",
    "D_preserved = (len(S) - np.count_nonzero(D_before-D_after))/len(S)\n",
    "K_preserved = (len(S) - np.count_nonzero(K_before-K_after))/len(S)\n",
    "\n",
    "print(\"%.3f\"%(len(S)/(N*N-N)))\n",
    "print(\"%.3f\"%(D_preserved))\n",
    "print(\"%.3f\"%(K_preserved))"
   ]
  },
  {
   "cell_type": "code",
   "execution_count": null,
   "metadata": {},
   "outputs": [],
   "source": []
  }
 ],
 "metadata": {
  "kernelspec": {
   "display_name": "Python 3",
   "language": "python",
   "name": "python3"
  },
  "language_info": {
   "codemirror_mode": {
    "name": "ipython",
    "version": 3
   },
   "file_extension": ".py",
   "mimetype": "text/x-python",
   "name": "python",
   "nbconvert_exporter": "python",
   "pygments_lexer": "ipython3",
   "version": "3.8.5"
  }
 },
 "nbformat": 4,
 "nbformat_minor": 4
}
